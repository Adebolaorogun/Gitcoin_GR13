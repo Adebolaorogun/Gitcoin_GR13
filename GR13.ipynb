{
 "cells": [
  {
   "cell_type": "code",
   "execution_count": 1,
   "id": "0783ec3c",
   "metadata": {},
   "outputs": [],
   "source": [
    "import pandas as pd \n",
    "import numpy as np \n",
    "import plotly.express as px\n",
    "import matplotlib.pyplot as plt"
   ]
  },
  {
   "attachments": {},
   "cell_type": "markdown",
   "id": "a5726fb9",
   "metadata": {},
   "source": [
    "### Import the datasets (The Human evaluator spreadsheet and the Machine learning predictions.\n",
    "\n",
    "Six sheets were imported because they have the needed columns. "
   ]
  },
  {
   "cell_type": "code",
   "execution_count": 12,
   "id": "c6caa015",
   "metadata": {},
   "outputs": [],
   "source": [
    "adebola =## Input file path here## \n",
    "am =## Input file path here## \n",
    "ann =## Input file path here## \n",
    "anuj =## Input file path here## \n",
    "elbeth =## Input file path here## \n",
    "bfa =## Input file path here## \n",
    "gold =## Input file path here## \n",
    "bob =## Input file path here## \n",
    "lkh =## Input file path here## \n",
    "waka = ## Input file path here## \n",
    "trice = ## Input file path here## \n",
    "proof = ## Input file path here## \n",
    "emmanuel = ## Input file path here## \n",
    "fizzy = ## Input file path here## \n",
    "dog = ## Input file path here## \n",
    "flob = ## Input file path here## \n",
    "emma_j = ## Input file path here## \n",
    "greg = ## Input file path here## \n",
    "grey = ## Input file path here## \n",
    "stel = ## Input file path here## \n",
    "jshua = ## Input file path here## \n",
    "kish = ## Input file path here## \n",
    "kylin = ## Input file path here## \n",
    "z4yr = ## Input file path here## \n",
    "hound = ## Input file path here## \n",
    "mount = ## Input file path here## \n",
    "nadalie = ## Input file path here## \n",
    "richard = ## Input file path here## \n",
    "ogunjo = ## Input file path here## \n",
    "am2 = ## Input file path here## \n",
    "robot = ## Input file path here## \n",
    "ann2 = ## Input file path here## \n",
    "steeges = ## Input file path here## \n",
    "vik = ## Input file path here## \n",
    "socal = ## Input file path here## \n",
    "wolfman = ## Input file path here## \n",
    "zer = ## Input file path here## \n",
    "elbeth2 = ## Input file path here## \n",
    "bob2 = ## Input file path here## \n",
    "lkh2 = ## Input file path here## \n",
    "fizzy2 = ## Input file path here## \n",
    "trice2 = ## Input file path here## \n",
    "flob2 = ## Input file path here## \n",
    "greg2 = ## Input file path here## \n",
    "grey2 = ## Input file path here## \n",
    "stele2 = ## Input file path here## \n",
    "hound2 = ## Input file path here## \n",
    "richard2 = ## Input file path here## \n",
    "ogunjo2 = ## Input file path here## \n",
    "vik2 = ## Input file path here## \n",
    "wolfman2 = ## Input file path here## "
   ]
  },
  {
   "cell_type": "code",
   "execution_count": 18,
   "id": "3cc9256c",
   "metadata": {},
   "outputs": [],
   "source": [
    "names = [adebola, am, ann, anuj, elbeth, bfa, gold, bob, lkh, waka, trice, proof, emmanuel, fizzy, dog, flob, emma_j, greg,\n",
    "        grey, stel, jshua, kish, kylin, z4yr, hound, mount, nadalie, richard, ogunjo, am2, robot, ann2, steeges, vik, socal,\n",
    "        wolfman, zer, elbeth2, bob2, lkh2, fizzy2, trice2, flob2, greg2, grey2, stele2, hound2, richard2, ogunjo2, vik2, wolfman2]"
   ]
  },
  {
   "cell_type": "markdown",
   "id": "7b1766a9",
   "metadata": {},
   "source": [
    "## Reading the machine learning prediction dataset"
   ]
  },
  {
   "cell_type": "code",
   "execution_count": 13,
   "id": "8580a48d",
   "metadata": {},
   "outputs": [],
   "source": [
    "anon = pd.read_csv(\"./GR13_Anon_predicted.csv\")"
   ]
  },
  {
   "cell_type": "code",
   "execution_count": 15,
   "id": "f24ae376",
   "metadata": {},
   "outputs": [],
   "source": [
    "# Dropping the index column that is not labelled because it just makes the data untidy.\n",
    "anon.drop(\"Unnamed: 0\", axis=1, inplace=True)"
   ]
  },
  {
   "cell_type": "code",
   "execution_count": 21,
   "id": "c7ea6d75",
   "metadata": {},
   "outputs": [],
   "source": [
    "# Making a loop through all the datasheet of human evaluation,\n",
    "# then renaming the Unnamed: 0 column to handle so that all the data used for the analysis have a column in common\n",
    "for i in names:\n",
    "    i.rename({\"Unnamed: 0\": \"handle\"}, axis=1, inplace=True)"
   ]
  },
  {
   "cell_type": "code",
   "execution_count": 29,
   "id": "93cfc01d",
   "metadata": {},
   "outputs": [],
   "source": [
    "for name in names:\n",
    "    name = name.merge(anon, on=\"handle\", how=\"outer\", \n",
    "                     suffixes=(\" \", \" \")).dropna(subset=[\"Is Sybil? (T or F)\", \"prediction_score\"])"
   ]
  },
  {
   "cell_type": "code",
   "execution_count": 33,
   "id": "4a6df2bb",
   "metadata": {},
   "outputs": [],
   "source": [
    "## This cell of code merges each datasheet (Human evaluator) to the machine learning prediction data on the handle column.\n",
    "## Then drops missing values in the columns we want to base the analysis on [\"Is Sybil? (T or F)\", \"prediction_score\"].\n",
    "## Then saves the dataframe in a new variable.\n",
    "\n",
    "adebola_anon = adebola.merge(anon, on=\"handle\", how=\"outer\", \n",
    "                     suffixes=(\" \", \" \")).dropna(subset=[\"Is Sybil? (T or F)\", \"prediction_score\"])\n",
    "\n",
    "am_anon = am.merge(anon, on=\"handle\", how=\"outer\",\n",
    "                         suffixes=(\" \", \" \")).dropna(subset=[\"Is Sybil? (T or F)\", \"prediction_score\"])\n",
    "\n",
    "ann_anon = ann.merge(anon, on=\"handle\", how=\"outer\",\n",
    "                       suffixes=(\" \", \" \")).dropna(subset=[\"Is Sybil? (T or F)\", \"prediction_score\"])\n",
    "\n",
    "anuj_anon = anuj.merge(anon, on=\"handle\", how=\"outer\",\n",
    "                         suffixes=(\" \", \" \")).dropna(subset=[\"Is Sybil? (T or F)\", \"prediction_score\"])\n",
    "\n",
    "elbeth_anon = elbeth.merge(anon, on=\"handle\", how=\"outer\",\n",
    "                       suffixes=(\" \", \" \")).dropna(subset=[\"Is Sybil? (T or F)\", \"prediction_score\"])\n",
    "\n",
    "bfa_anon = bfa.merge(anon, on=\"handle\", how=\"outer\",\n",
    "                             suffixes=(\" \", \" \")).dropna(subset=[\"Is Sybil? (T or F)\", \"prediction_score\"])\n",
    "\n",
    "gold_anon = gold.merge(anon, on=\"handle\", how=\"outer\", \n",
    "                     suffixes=(\" \", \" \")).dropna(subset=[\"Is Sybil? (T or F)\", \"prediction_score\"])\n",
    "\n",
    "bob_anon = bob.merge(anon, on=\"handle\", how=\"outer\",\n",
    "                         suffixes=(\" \", \" \")).dropna(subset=[\"Is Sybil? (T or F)\", \"prediction_score\"])\n",
    "\n",
    "lkh_anon = lkh.merge(anon, on=\"handle\", how=\"outer\",\n",
    "                       suffixes=(\" \", \" \")).dropna(subset=[\"Is Sybil? (T or F)\", \"prediction_score\"])\n",
    "\n",
    "waka_anon = waka.merge(anon, on=\"handle\", how=\"outer\",\n",
    "                         suffixes=(\" \", \" \")).dropna(subset=[\"Is Sybil? (T or F)\", \"prediction_score\"])\n",
    "\n",
    "trice_anon = trice.merge(anon, on=\"handle\", how=\"outer\",\n",
    "                       suffixes=(\" \", \" \")).dropna(subset=[\"Is Sybil? (T or F)\", \"prediction_score\"])\n",
    "\n",
    "proof_anon = proof.merge(anon, on=\"handle\", how=\"outer\",\n",
    "                             suffixes=(\" \", \" \")).dropna(subset=[\"Is Sybil? (T or F)\", \"prediction_score\"])\n",
    "emmanuel_anon = emmanuel.merge(anon, on=\"handle\", how=\"outer\", \n",
    "                     suffixes=(\" \", \" \")).dropna(subset=[\"Is Sybil? (T or F)\", \"prediction_score\"])\n",
    "\n",
    "fizzy_anon = fizzy.merge(anon, on=\"handle\", how=\"outer\",\n",
    "                         suffixes=(\" \", \" \")).dropna(subset=[\"Is Sybil? (T or F)\", \"prediction_score\"])\n",
    "\n",
    "dog_anon = dog.merge(anon, on=\"handle\", how=\"outer\",\n",
    "                       suffixes=(\" \", \" \")).dropna(subset=[\"Is Sybil? (T or F)\", \"prediction_score\"])\n",
    "\n",
    "flob_anon = flob.merge(anon, on=\"handle\", how=\"outer\",\n",
    "                         suffixes=(\" \", \" \")).dropna(subset=[\"Is Sybil? (T or F)\", \"prediction_score\"])\n",
    "\n",
    "emma_j_anon = emma_j.merge(anon, on=\"handle\", how=\"outer\",\n",
    "                       suffixes=(\" \", \" \")).dropna(subset=[\"Is Sybil? (T or F)\", \"prediction_score\"])\n",
    "\n",
    "greg_anon = greg.merge(anon, on=\"handle\", how=\"outer\",\n",
    "                             suffixes=(\" \", \" \")).dropna(subset=[\"Is Sybil? (T or F)\", \"prediction_score\"])\n",
    "\n",
    "grey_anon = grey.merge(anon, on=\"handle\", how=\"outer\", \n",
    "                     suffixes=(\" \", \" \")).dropna(subset=[\"Is Sybil? (T or F)\", \"prediction_score\"])\n",
    "\n",
    "stel_anon = stel.merge(anon, on=\"handle\", how=\"outer\",\n",
    "                         suffixes=(\" \", \" \")).dropna(subset=[\"Is Sybil? (T or F)\", \"prediction_score\"])\n",
    "\n",
    "jshua_anon = jshua.merge(anon, on=\"handle\", how=\"outer\",\n",
    "                       suffixes=(\" \", \" \")).dropna(subset=[\"Is Sybil? (T or F)\", \"prediction_score\"])\n",
    "\n",
    "kish_anon = kish.merge(anon, on=\"handle\", how=\"outer\",\n",
    "                         suffixes=(\" \", \" \")).dropna(subset=[\"Is Sybil? (T or F)\", \"prediction_score\"])\n",
    "\n",
    "kylin_anon = kylin.merge(anon, on=\"handle\", how=\"outer\",\n",
    "                       suffixes=(\" \", \" \")).dropna(subset=[\"Is Sybil? (T or F)\", \"prediction_score\"])\n",
    "\n",
    "z4yr_anon = z4yr.merge(anon, on=\"handle\", how=\"outer\",\n",
    "                             suffixes=(\" \", \" \")).dropna(subset=[\"Is Sybil? (T or F)\", \"prediction_score\"])\n",
    "\n",
    "hound_anon = hound.merge(anon, on=\"handle\", how=\"outer\", \n",
    "                     suffixes=(\" \", \" \")).dropna(subset=[\"Is Sybil? (T or F)\", \"prediction_score\"])\n",
    "\n",
    "mount_anon = mount.merge(anon, on=\"handle\", how=\"outer\",\n",
    "                         suffixes=(\" \", \" \")).dropna(subset=[\"Is Sybil? (T or F)\", \"prediction_score\"])\n",
    "\n",
    "nadalie_anon = nadalie.merge(anon, on=\"handle\", how=\"outer\",\n",
    "                       suffixes=(\" \", \" \")).dropna(subset=[\"Is Sybil? (T or F)\", \"prediction_score\"])\n",
    "\n",
    "richard_anon = richard.merge(anon, on=\"handle\", how=\"outer\",\n",
    "                         suffixes=(\" \", \" \")).dropna(subset=[\"Is Sybil? (T or F)\", \"prediction_score\"])\n",
    "\n",
    "ogunjo_anon = ogunjo.merge(anon, on=\"handle\", how=\"outer\",\n",
    "                       suffixes=(\" \", \" \")).dropna(subset=[\"Is Sybil? (T or F)\", \"prediction_score\"])\n",
    "\n",
    "am2_anon = am2.merge(anon, on=\"handle\", how=\"outer\",\n",
    "                             suffixes=(\" \", \" \")).dropna(subset=[\"Is Sybil? (T or F)\", \"prediction_score\"])\n",
    "\n",
    "robot_anon = robot.merge(anon, on=\"handle\", how=\"outer\", \n",
    "                     suffixes=(\" \", \" \")).dropna(subset=[\"Is Sybil? (T or F)\", \"prediction_score\"])\n",
    "\n",
    "ann2_anon = ann2.merge(anon, on=\"handle\", how=\"outer\",\n",
    "                         suffixes=(\" \", \" \")).dropna(subset=[\"Is Sybil? (T or F)\", \"prediction_score\"])\n",
    "\n",
    "steeges_anon = steeges.merge(anon, on=\"handle\", how=\"outer\",\n",
    "                       suffixes=(\" \", \" \")).dropna(subset=[\"Is Sybil? (T or F)\", \"prediction_score\"])\n",
    "\n",
    "vik_anon = vik.merge(anon, on=\"handle\", how=\"outer\",\n",
    "                         suffixes=(\" \", \" \")).dropna(subset=[\"Is Sybil? (T or F)\", \"prediction_score\"])\n",
    "\n",
    "socal_anon = socal.merge(anon, on=\"handle\", how=\"outer\",\n",
    "                       suffixes=(\" \", \" \")).dropna(subset=[\"Is Sybil? (T or F)\", \"prediction_score\"])\n",
    "\n",
    "wolfman_anon = wolfman.merge(anon, on=\"handle\", how=\"outer\",\n",
    "                             suffixes=(\" \", \" \")).dropna(subset=[\"Is Sybil? (T or F)\", \"prediction_score\"])\n",
    "\n",
    "zer_anon = zer.merge(anon, on=\"handle\", how=\"outer\", \n",
    "                     suffixes=(\" \", \" \")).dropna(subset=[\"Is Sybil? (T or F)\", \"prediction_score\"])\n",
    "\n",
    "elbeth2_anon = elbeth2.merge(anon, on=\"handle\", how=\"outer\",\n",
    "                         suffixes=(\" \", \" \")).dropna(subset=[\"Is Sybil? (T or F)\", \"prediction_score\"])\n",
    "\n",
    "bob2_anon = bob2.merge(anon, on=\"handle\", how=\"outer\",\n",
    "                       suffixes=(\" \", \" \")).dropna(subset=[\"Is Sybil? (T or F)\", \"prediction_score\"])\n",
    "\n",
    "lkh2_anon = lkh2.merge(anon, on=\"handle\", how=\"outer\",\n",
    "                         suffixes=(\" \", \" \")).dropna(subset=[\"Is Sybil? (T or F)\", \"prediction_score\"])\n",
    "\n",
    "fizzy2_anon = fizzy2.merge(anon, on=\"handle\", how=\"outer\",\n",
    "                       suffixes=(\" \", \" \")).dropna(subset=[\"Is Sybil? (T or F)\", \"prediction_score\"])\n",
    "\n",
    "trice2_anon = trice2.merge(anon, on=\"handle\", how=\"outer\",\n",
    "                             suffixes=(\" \", \" \")).dropna(subset=[\"Is Sybil? (T or F)\", \"prediction_score\"])\n",
    "\n",
    "flob2_anon = flob2.merge(anon, on=\"handle\", how=\"outer\", \n",
    "                     suffixes=(\" \", \" \")).dropna(subset=[\"Is Sybil? (T or F)\", \"prediction_score\"])\n",
    "\n",
    "greg2_anon = greg2.merge(anon, on=\"handle\", how=\"outer\",\n",
    "                         suffixes=(\" \", \" \")).dropna(subset=[\"Is Sybil? (T or F)\", \"prediction_score\"])\n",
    "\n",
    "grey2_anon = grey2.merge(anon, on=\"handle\", how=\"outer\",\n",
    "                       suffixes=(\" \", \" \")).dropna(subset=[\"Is Sybil? (T or F)\", \"prediction_score\"])\n",
    "\n",
    "stele2_anon = stele2.merge(anon, on=\"handle\", how=\"outer\",\n",
    "                         suffixes=(\" \", \" \")).dropna(subset=[\"Is Sybil? (T or F)\", \"prediction_score\"])\n",
    "\n",
    "hound2_anon = hound2.merge(anon, on=\"handle\", how=\"outer\",\n",
    "                       suffixes=(\" \", \" \")).dropna(subset=[\"Is Sybil? (T or F)\", \"prediction_score\"])\n",
    "\n",
    "richard2_anon = richard2.merge(anon, on=\"handle\", how=\"outer\",\n",
    "                             suffixes=(\" \", \" \")).dropna(subset=[\"Is Sybil? (T or F)\", \"prediction_score\"])\n",
    "\n",
    "ogunjo2_anon = ogunjo2.merge(anon, on=\"handle\", how=\"outer\", \n",
    "                     suffixes=(\" \", \" \")).dropna(subset=[\"Is Sybil? (T or F)\", \"prediction_score\"])\n",
    "\n",
    "vik2_anon = vik2.merge(anon, on=\"handle\", how=\"outer\",\n",
    "                         suffixes=(\" \", \" \")).dropna(subset=[\"Is Sybil? (T or F)\", \"prediction_score\"])\n",
    "\n",
    "wolfman2_anon = wolfman2.merge(anon, on=\"handle\", how=\"outer\",\n",
    "                       suffixes=(\" \", \" \")).dropna(subset=[\"Is Sybil? (T or F)\", \"prediction_score\"])\n"
   ]
  },
  {
   "cell_type": "code",
   "execution_count": 34,
   "id": "52056fa6",
   "metadata": {},
   "outputs": [],
   "source": [
    "## The names of the newly created dataframes for easy loops and manipulation.\n",
    "\n",
    "names_anon = [adebola_anon, am_anon, ann_anon, anuj_anon, elbeth_anon, bfa_anon, gold_anon, bob_anon, lkh_anon, waka_anon, trice_anon, proof_anon, emmanuel_anon, fizzy_anon, dog_anon, flob_anon, emma_j_anon, greg_anon,\n",
    "        grey_anon, stel_anon, jshua_anon, kish_anon, kylin_anon, z4yr_anon, hound_anon, mount_anon, nadalie_anon, richard_anon, ogunjo_anon, am2_anon, robot_anon, ann2_anon, steeges_anon, vik_anon, socal_anon,\n",
    "        wolfman_anon, zer_anon, elbeth2_anon, bob2_anon, lkh2_anon, fizzy2_anon, trice2_anon, flob2_anon, greg2_anon, grey2_anon, stele2_anon, hound2_anon, richard2_anon, ogunjo2_anon, vik2_anon, wolfman2_anon]"
   ]
  },
  {
   "cell_type": "code",
   "execution_count": 35,
   "id": "353c9490",
   "metadata": {},
   "outputs": [],
   "source": [
    "# This cell of code loops through the names_anon list, then for each dataframe;\n",
    "## It creates a new column that transforms the \"Is Sybil? (T or F)\" column.\n",
    "## The new column (Human_preds) is 1 if \"Is Sybil? (T or F)\" is \"T\" and 0 if \"F\"\n",
    "\n",
    "for i in names_anon:\n",
    "    i[\"Human_preds\"] = np.where(i[\"Is Sybil? (T or F)\"] == \"T\", 1, 0)"
   ]
  },
  {
   "cell_type": "code",
   "execution_count": 39,
   "id": "0b5b75f8",
   "metadata": {},
   "outputs": [],
   "source": [
    "## This cell concatenate all the names_anon dataset into on large dataset.\n",
    "## It also reset the index and drops the previous index.\n",
    "\n",
    "dataset = pd.concat(names_anon).reset_index(drop=True)"
   ]
  },
  {
   "cell_type": "code",
   "execution_count": 52,
   "id": "0b25fa9e",
   "metadata": {},
   "outputs": [],
   "source": [
    "## This cell saves the concatenated dataset\n",
    "\n",
    "dataset.to_csv(\"./merged_data.csv\", index=False)"
   ]
  },
  {
   "cell_type": "code",
   "execution_count": 69,
   "id": "5d2c66ed",
   "metadata": {},
   "outputs": [
    {
     "data": {
      "text/plain": [
       "high     62\n",
       "low      50\n",
       "so-so    24\n",
       "high      1\n",
       "hiigh     1\n",
       "dtype: int64"
      ]
     },
     "execution_count": 69,
     "metadata": {},
     "output_type": "execute_result"
    }
   ],
   "source": [
    "## This cell takes the value counts of each of the level of confidence in the rows,\n",
    "## where both humans and ML predicted the handle as SYBIL\n",
    "\n",
    "confidence = dataset.loc[(dataset[\"Human_preds\"] == 1) & (dataset[\"prediction_score\"] == 1.0)][\"Confidence (low, so-so, high)\"]\n",
    "conf = [i.lower() for i in confidence]\n",
    "pd.Series(conf).value_counts()"
   ]
  },
  {
   "cell_type": "code",
   "execution_count": 80,
   "id": "3085a217",
   "metadata": {},
   "outputs": [],
   "source": [
    "df = pd.DataFrame()\n",
    "df[\"confidence level\"] = [\"High\", \"So-so\", \"Low\"]\n",
    "df[\"Values11\"] = [64, 24, 50]\n",
    "df[\"Values01\"] = [12, 29, 41]\n",
    "df[\"Values10\"] = [178, 152, 115]\n",
    "df[\"Values00\"] = [399, 247, 186]"
   ]
  },
  {
   "cell_type": "code",
   "execution_count": 86,
   "id": "865dbd68",
   "metadata": {},
   "outputs": [],
   "source": [
    "dff = pd.DataFrame()\n",
    "dff[\"confidence level\"] = [\"High\", \"So-so\", \"Low\"]\n",
    "dff[\"Values11\"] = [46.38, 17.39, 36.23]\n",
    "dff[\"Values01\"] = [14.63, 35.37, 50]\n",
    "dff[\"Values10\"] = [40, 34.16, 25.84]\n",
    "dff[\"Values00\"] = [47.96, 29.69, 22.35]"
   ]
  },
  {
   "cell_type": "code",
   "execution_count": 87,
   "id": "c3996554",
   "metadata": {},
   "outputs": [
    {
     "data": {
      "text/html": [
       "<div>\n",
       "<style scoped>\n",
       "    .dataframe tbody tr th:only-of-type {\n",
       "        vertical-align: middle;\n",
       "    }\n",
       "\n",
       "    .dataframe tbody tr th {\n",
       "        vertical-align: top;\n",
       "    }\n",
       "\n",
       "    .dataframe thead th {\n",
       "        text-align: right;\n",
       "    }\n",
       "</style>\n",
       "<table border=\"1\" class=\"dataframe\">\n",
       "  <thead>\n",
       "    <tr style=\"text-align: right;\">\n",
       "      <th></th>\n",
       "      <th>confidence level</th>\n",
       "      <th>Values11</th>\n",
       "      <th>Values01</th>\n",
       "      <th>Values10</th>\n",
       "      <th>Values00</th>\n",
       "    </tr>\n",
       "  </thead>\n",
       "  <tbody>\n",
       "    <tr>\n",
       "      <th>0</th>\n",
       "      <td>High</td>\n",
       "      <td>46.38</td>\n",
       "      <td>14.63</td>\n",
       "      <td>40.00</td>\n",
       "      <td>47.96</td>\n",
       "    </tr>\n",
       "    <tr>\n",
       "      <th>1</th>\n",
       "      <td>So-so</td>\n",
       "      <td>17.39</td>\n",
       "      <td>35.37</td>\n",
       "      <td>34.16</td>\n",
       "      <td>29.69</td>\n",
       "    </tr>\n",
       "    <tr>\n",
       "      <th>2</th>\n",
       "      <td>Low</td>\n",
       "      <td>36.23</td>\n",
       "      <td>50.00</td>\n",
       "      <td>25.84</td>\n",
       "      <td>22.35</td>\n",
       "    </tr>\n",
       "  </tbody>\n",
       "</table>\n",
       "</div>"
      ],
      "text/plain": [
       "  confidence level  Values11  Values01  Values10  Values00\n",
       "0             High     46.38     14.63     40.00     47.96\n",
       "1            So-so     17.39     35.37     34.16     29.69\n",
       "2              Low     36.23     50.00     25.84     22.35"
      ]
     },
     "execution_count": 87,
     "metadata": {},
     "output_type": "execute_result"
    }
   ],
   "source": [
    "dff"
   ]
  },
  {
   "cell_type": "code",
   "execution_count": 71,
   "id": "57f174f3",
   "metadata": {
    "collapsed": true
   },
   "outputs": [
    {
     "data": {
      "text/plain": [
       "low      41\n",
       "so-so    29\n",
       "high     12\n",
       "dtype: int64"
      ]
     },
     "execution_count": 71,
     "metadata": {},
     "output_type": "execute_result"
    }
   ],
   "source": [
    "## This cell takes the value counts of each level of confidence in the rows;\n",
    "## where humans predicted the account as NON-SYBIL and ML predicted it as SYBIL\n",
    "\n",
    "confidence = dataset.loc[(dataset[\"Human_preds\"] == 0) & (dataset[\"prediction_score\"] == 1.0)][\"Confidence (low, so-so, high)\"]\n",
    "conf = [i.lower() for i in confidence]\n",
    "pd.Series(conf).value_counts()"
   ]
  },
  {
   "cell_type": "code",
   "execution_count": 72,
   "id": "e3386375",
   "metadata": {
    "collapsed": true
   },
   "outputs": [
    {
     "data": {
      "text/plain": [
       "high      178\n",
       "so-so     131\n",
       "low       114\n",
       "so so       7\n",
       "soso        7\n",
       "so so       5\n",
       "medium      2\n",
       "low         1\n",
       "dtype: int64"
      ]
     },
     "execution_count": 72,
     "metadata": {},
     "output_type": "execute_result"
    }
   ],
   "source": [
    "## This cell takes the value counts of each level of confidence in the rows;\n",
    "## where humans predicted the account as SYBIL and ML predicted it as NON-SYBIL\n",
    "\n",
    "confidence = dataset.loc[(dataset[\"Human_preds\"] == 1) & (dataset[\"prediction_score\"] == 0.0)][\"Confidence (low, so-so, high)\"]\n",
    "conf = [i.lower() for i in confidence]\n",
    "pd.Series(conf).value_counts()"
   ]
  },
  {
   "cell_type": "code",
   "execution_count": 73,
   "id": "ab994654",
   "metadata": {},
   "outputs": [
    {
     "data": {
      "text/plain": [
       "high      398\n",
       "so-so     225\n",
       "low       179\n",
       "so so      12\n",
       "low         7\n",
       "soso        7\n",
       "medium      2\n",
       "-           1\n",
       "high        1\n",
       "so so       1\n",
       "dtype: int64"
      ]
     },
     "execution_count": 73,
     "metadata": {},
     "output_type": "execute_result"
    }
   ],
   "source": [
    "## This cell takes the value counts of each level of confidence in the rows;\n",
    "## where both humans and ML predicted the account as NON-SYBIL.\n",
    "\n",
    "confidence = dataset.loc[(dataset[\"Human_preds\"] == 0) & (dataset[\"prediction_score\"] == 0.0)][\"Confidence (low, so-so, high)\"]\n",
    "conf = [i.lower() for i in confidence]\n",
    "pd.Series(conf).value_counts()"
   ]
  },
  {
   "cell_type": "code",
   "execution_count": 47,
   "id": "991ca13c",
   "metadata": {},
   "outputs": [],
   "source": [
    "from sklearn.metrics import confusion_matrix"
   ]
  },
  {
   "cell_type": "code",
   "execution_count": 53,
   "id": "cb62e89b",
   "metadata": {},
   "outputs": [],
   "source": [
    "## This cells constructs a confusion matrix where human predictions are taken to be more accurate y_true,\n",
    "## Machine learning predictions are checked using the human predictions.\n",
    "\n",
    "conf_max = confusion_matrix(dataset.Human_preds, dataset.prediction_score)"
   ]
  },
  {
   "cell_type": "code",
   "execution_count": null,
   "id": "5a19c866",
   "metadata": {},
   "outputs": [],
   "source": [
    "conf_max"
   ]
  },
  {
   "cell_type": "code",
   "execution_count": 60,
   "id": "edf26a90",
   "metadata": {
    "scrolled": true
   },
   "outputs": [
    {
     "data": {
      "image/png": "[encoded data removed]",
      "text/plain": [
       "<Figure size 432x288 with 2 Axes>"
      ]
     },
     "metadata": {
      "needs_background": "light"
     },
     "output_type": "display_data"
    }
   ],
   "source": [
    "import seaborn as sns\n",
    "\n",
    "labels = [[\"833\", \"82\"],[\"445\", \"138\"]]\n",
    "\n",
    "sns.heatmap(confusion_matrix(dataset.Human_preds, dataset.prediction_score), annot=labels, fmt=\"\")\n",
    "plt.ylabel(\"Human predictions\")\n",
    "plt.xlabel(\"Machine Learning algorithm\");"
   ]
  },
  {
   "cell_type": "code",
   "execution_count": 135,
   "id": "67da45ff",
   "metadata": {},
   "outputs": [
    {
     "data": {
      "text/plain": [
       "(1498, 17)"
      ]
     },
     "execution_count": 135,
     "metadata": {},
     "output_type": "execute_result"
    }
   ],
   "source": [
    "dataset.shape"
   ]
  },
  {
   "cell_type": "code",
   "execution_count": 136,
   "id": "66a47bc9",
   "metadata": {},
   "outputs": [],
   "source": [
    "df = pd.DataFrame()\n",
    "df[\"Labels\"] = [\"True Positive\", \"False Positive\", \"False Negative\", \"True Negative\"]\n",
    "df[\"Percentages\"] = [9.21, 5.47, 29.71, 55.61]"
   ]
  },
  {
   "cell_type": "code",
   "execution_count": 137,
   "id": "91781468",
   "metadata": {},
   "outputs": [
    {
     "data": {
      "text/html": [
       "<div>\n",
       "<style scoped>\n",
       "    .dataframe tbody tr th:only-of-type {\n",
       "        vertical-align: middle;\n",
       "    }\n",
       "\n",
       "    .dataframe tbody tr th {\n",
       "        vertical-align: top;\n",
       "    }\n",
       "\n",
       "    .dataframe thead th {\n",
       "        text-align: right;\n",
       "    }\n",
       "</style>\n",
       "<table border=\"1\" class=\"dataframe\">\n",
       "  <thead>\n",
       "    <tr style=\"text-align: right;\">\n",
       "      <th></th>\n",
       "      <th>Labels</th>\n",
       "      <th>Percentages</th>\n",
       "    </tr>\n",
       "  </thead>\n",
       "  <tbody>\n",
       "    <tr>\n",
       "      <th>0</th>\n",
       "      <td>True Positive</td>\n",
       "      <td>9.21</td>\n",
       "    </tr>\n",
       "    <tr>\n",
       "      <th>1</th>\n",
       "      <td>False Positive</td>\n",
       "      <td>5.47</td>\n",
       "    </tr>\n",
       "    <tr>\n",
       "      <th>2</th>\n",
       "      <td>False Negative</td>\n",
       "      <td>29.71</td>\n",
       "    </tr>\n",
       "    <tr>\n",
       "      <th>3</th>\n",
       "      <td>True Negative</td>\n",
       "      <td>55.61</td>\n",
       "    </tr>\n",
       "  </tbody>\n",
       "</table>\n",
       "</div>"
      ],
      "text/plain": [
       "           Labels  Percentages\n",
       "0   True Positive         9.21\n",
       "1  False Positive         5.47\n",
       "2  False Negative        29.71\n",
       "3   True Negative        55.61"
      ]
     },
     "execution_count": 137,
     "metadata": {},
     "output_type": "execute_result"
    }
   ],
   "source": [
    "df"
   ]
  },
  {
   "cell_type": "code",
   "execution_count": 139,
   "id": "6029f2c1",
   "metadata": {},
   "outputs": [
    {
     "data": {
      "application/vnd.plotly.v1+json": {
       "config": {
        "plotlyServerURL": "https://plot.ly"
       },
       "data": [
        {
         "alignmentgroup": "True",
         "hovertemplate": "Labels=%{x}<br>Percentages=%{marker.color}<extra></extra>",
         "legendgroup": "",
         "marker": {
          "color": [
           9.21,
           5.47,
           29.71,
           55.61
          ],
          "coloraxis": "coloraxis",
          "opacity": 0.9,
          "pattern": {
           "shape": ""
          }
         },
         "name": "",
         "offsetgroup": "",
         "orientation": "v",
         "showlegend": false,
         "textposition": "auto",
         "type": "bar",
         "x": [
          "True Positive",
          "False Positive",
          "False Negative",
          "True Negative"
         ],
         "xaxis": "x",
         "y": [
          9.21,
          5.47,
          29.71,
          55.61
         ],
         "yaxis": "y"
        }
       ],
       "layout": {
        "barmode": "group",
        "coloraxis": {
         "colorbar": {
          "title": {
           "text": "Percentages"
          }
         },
         "colorscale": [
          [
           0,
           "#440154"
          ],
          [
           0.1111111111111111,
           "#482878"
          ],
          [
           0.2222222222222222,
           "#3e4989"
          ],
          [
           0.3333333333333333,
           "#31688e"
          ],
          [
           0.4444444444444444,
           "#26828e"
          ],
          [
           0.5555555555555556,
           "#1f9e89"
          ],
          [
           0.6666666666666666,
           "#35b779"
          ],
          [
           0.7777777777777778,
           "#6ece58"
          ],
          [
           0.8888888888888888,
           "#b5de2b"
          ],
          [
           1,
           "#fde725"
          ]
         ]
        },
        "legend": {
         "tracegroupgap": 0
        },
        "template": {
         "data": {
          "pie": [
           {
            "automargin": true,
            "type": "pie"
           }
          ],
          "scatter": [
           {
            "line": {
             "width": 3
            },
            "marker": {
             "size": 9
            },
            "type": "scatter"
           }
          ],
          "scatter3d": [
           {
            "line": {
             "width": 3
            },
            "marker": {
             "size": 9
            },
            "type": "scatter3d"
           }
          ],
          "scattergeo": [
           {
            "line": {
             "width": 3
            },
            "marker": {
             "size": 9
            },
            "type": "scattergeo"
           }
          ],
          "scattergl": [
           {
            "line": {
             "width": 3
            },
            "marker": {
             "size": 9
            },
            "type": "scattergl"
           }
          ],
          "scatterpolar": [
           {
            "line": {
             "width": 3
            },
            "marker": {
             "size": 9
            },
            "type": "scatterpolar"
           }
          ],
          "scatterpolargl": [
           {
            "line": {
             "width": 3
            },
            "marker": {
             "size": 9
            },
            "type": "scatterpolargl"
           }
          ],
          "scatterternary": [
           {
            "line": {
             "width": 3
            },
            "marker": {
             "size": 9
            },
            "type": "scatterternary"
           }
          ],
          "table": [
           {
            "cells": {
             "height": 30
            },
            "header": {
             "height": 36
            },
            "type": "table"
           }
          ]
         },
         "layout": {
          "font": {
           "size": 18
          },
          "xaxis": {
           "title": {
            "standoff": 15
           }
          },
          "yaxis": {
           "title": {
            "standoff": 15
           }
          }
         }
        },
        "title": {
         "text": "Percentages of Confidence Level across Scenarios in the Dataset."
        },
        "xaxis": {
         "anchor": "y",
         "domain": [
          0,
          1
         ],
         "title": {
          "text": "Labels"
         }
        },
        "yaxis": {
         "anchor": "x",
         "domain": [
          0,
          1
         ],
         "title": {
          "text": "Percentages"
         }
        }
       }
      },
      "text/html": [
       "<div>                            <div id=\"e04fff51-4382-427d-b934-2b776adb4d16\" class=\"plotly-graph-div\" style=\"height:525px; width:100%;\"></div>            <script type=\"text/javascript\">                require([\"plotly\"], function(Plotly) {                    window.PLOTLYENV=window.PLOTLYENV || {};                                    if (document.getElementById(\"e04fff51-4382-427d-b934-2b776adb4d16\")) {                    Plotly.newPlot(                        \"e04fff51-4382-427d-b934-2b776adb4d16\",                        [{\"alignmentgroup\":\"True\",\"hovertemplate\":\"Labels=%{x}<br>Percentages=%{marker.color}<extra></extra>\",\"legendgroup\":\"\",\"marker\":{\"color\":[9.21,5.47,29.71,55.61],\"coloraxis\":\"coloraxis\",\"opacity\":0.9,\"pattern\":{\"shape\":\"\"}},\"name\":\"\",\"offsetgroup\":\"\",\"orientation\":\"v\",\"showlegend\":false,\"textposition\":\"auto\",\"type\":\"bar\",\"x\":[\"True Positive\",\"False Positive\",\"False Negative\",\"True Negative\"],\"xaxis\":\"x\",\"y\":[9.21,5.47,29.71,55.61],\"yaxis\":\"y\"}],                        {\"barmode\":\"group\",\"coloraxis\":{\"colorbar\":{\"title\":{\"text\":\"Percentages\"}},\"colorscale\":[[0.0,\"#440154\"],[0.1111111111111111,\"#482878\"],[0.2222222222222222,\"#3e4989\"],[0.3333333333333333,\"#31688e\"],[0.4444444444444444,\"#26828e\"],[0.5555555555555556,\"#1f9e89\"],[0.6666666666666666,\"#35b779\"],[0.7777777777777778,\"#6ece58\"],[0.8888888888888888,\"#b5de2b\"],[1.0,\"#fde725\"]]},\"legend\":{\"tracegroupgap\":0},\"template\":{\"data\":{\"pie\":[{\"automargin\":true,\"type\":\"pie\"}],\"scatter\":[{\"line\":{\"width\":3},\"marker\":{\"size\":9},\"type\":\"scatter\"}],\"scatter3d\":[{\"line\":{\"width\":3},\"marker\":{\"size\":9},\"type\":\"scatter3d\"}],\"scattergeo\":[{\"line\":{\"width\":3},\"marker\":{\"size\":9},\"type\":\"scattergeo\"}],\"scattergl\":[{\"line\":{\"width\":3},\"marker\":{\"size\":9},\"type\":\"scattergl\"}],\"scatterpolar\":[{\"line\":{\"width\":3},\"marker\":{\"size\":9},\"type\":\"scatterpolar\"}],\"scatterpolargl\":[{\"line\":{\"width\":3},\"marker\":{\"size\":9},\"type\":\"scatterpolargl\"}],\"scatterternary\":[{\"line\":{\"width\":3},\"marker\":{\"size\":9},\"type\":\"scatterternary\"}],\"table\":[{\"cells\":{\"height\":30},\"header\":{\"height\":36},\"type\":\"table\"}]},\"layout\":{\"font\":{\"size\":18},\"xaxis\":{\"title\":{\"standoff\":15}},\"yaxis\":{\"title\":{\"standoff\":15}}}},\"title\":{\"text\":\"Percentages of Confidence Level across Scenarios in the Dataset.\"},\"xaxis\":{\"anchor\":\"y\",\"domain\":[0.0,1.0],\"title\":{\"text\":\"Labels\"}},\"yaxis\":{\"anchor\":\"x\",\"domain\":[0.0,1.0],\"title\":{\"text\":\"Percentages\"}}},                        {\"responsive\": true}                    ).then(function(){\n",
       "                            \n",
       "var gd = document.getElementById('e04fff51-4382-427d-b934-2b776adb4d16');\n",
       "var x = new MutationObserver(function (mutations, observer) {{\n",
       "        var display = window.getComputedStyle(gd).display;\n",
       "        if (!display || display === 'none') {{\n",
       "            console.log([gd, 'removed!']);\n",
       "            Plotly.purge(gd);\n",
       "            observer.disconnect();\n",
       "        }}\n",
       "}});\n",
       "\n",
       "// Listen for the removal of the full notebook cells\n",
       "var notebookContainer = gd.closest('#notebook-container');\n",
       "if (notebookContainer) {{\n",
       "    x.observe(notebookContainer, {childList: true});\n",
       "}}\n",
       "\n",
       "// Listen for the clearing of the current output cell\n",
       "var outputEl = gd.closest('.output');\n",
       "if (outputEl) {{\n",
       "    x.observe(outputEl, {childList: true});\n",
       "}}\n",
       "\n",
       "                        })                };                });            </script>        </div>"
      ]
     },
     "metadata": {},
     "output_type": "display_data"
    }
   ],
   "source": [
    "\n",
    "barchart = px.bar(data_frame= df,\n",
    "                 x= \"Labels\",\n",
    "                 y=\"Percentages\",\n",
    "                 color=\"Percentages\",\n",
    "                 opacity=0.9,\n",
    "                 orientation=\"v\",\n",
    "                  template=\"presentation\",\n",
    "                 #color_discrete_sequence=[\"green\", \"red\"],\n",
    "                  barmode=\"group\",\n",
    "                  title=\"Percentages of Confidence Level across Scenarios in the Dataset.\",\n",
    "                  labels={\"variable\": \"Class\",\n",
    "                         \"value\": \"Percentages\", \n",
    "                         \"confidence level\": \"Confidence Levels\",}\n",
    "                 ) \n",
    "\n",
    "#barchart.update_layout(yaxis = dict(tickmode = 'array',tickvals = [0, 10, 20, 30, 40, 50], ticktext = ['0%', '10%', '20%', '30%', '40%', '50%']))\n",
    "\n",
    "\n",
    "barchart.show()"
   ]
  },
  {
   "cell_type": "code",
   "execution_count": 134,
   "id": "ada0847f",
   "metadata": {},
   "outputs": [
    {
     "data": {
      "application/vnd.plotly.v1+json": {
       "config": {
        "plotlyServerURL": "https://plot.ly"
       },
       "data": [
        {
         "alignmentgroup": "True",
         "hovertemplate": "Class=Human(0)_ML(0)<br>confidence level=%{x}<br>value=%{y}<extra></extra>",
         "legendgroup": "Human(0)_ML(0)",
         "marker": {
          "color": "#636efa",
          "opacity": 0.9,
          "pattern": {
           "shape": ""
          }
         },
         "name": "Human(0)_ML(0)",
         "offsetgroup": "Values00",
         "orientation": "v",
         "showlegend": true,
         "textposition": "auto",
         "type": "bar",
         "x": [
          "High",
          "So-so",
          "Low"
         ],
         "xaxis": "x",
         "y": [
          399,
          247,
          186
         ],
         "yaxis": "y"
        },
        {
         "alignmentgroup": "True",
         "hovertemplate": "Class=Human(0)_ML(1)<br>confidence level=%{x}<br>value=%{y}<extra></extra>",
         "legendgroup": "Human(0)_ML(1)",
         "marker": {
          "color": "#EF553B",
          "opacity": 0.9,
          "pattern": {
           "shape": ""
          }
         },
         "name": "Human(0)_ML(1)",
         "offsetgroup": "Values01",
         "orientation": "v",
         "showlegend": true,
         "textposition": "auto",
         "type": "bar",
         "x": [
          "High",
          "So-so",
          "Low"
         ],
         "xaxis": "x",
         "y": [
          12,
          29,
          41
         ],
         "yaxis": "y"
        },
        {
         "alignmentgroup": "True",
         "hovertemplate": "Class=Human(1)_ML(0)<br>confidence level=%{x}<br>value=%{y}<extra></extra>",
         "legendgroup": "Human(1)_ML(0)",
         "marker": {
          "color": "#00cc96",
          "opacity": 0.9,
          "pattern": {
           "shape": ""
          }
         },
         "name": "Human(1)_ML(0)",
         "offsetgroup": "Values10",
         "orientation": "v",
         "showlegend": true,
         "textposition": "auto",
         "type": "bar",
         "x": [
          "High",
          "So-so",
          "Low"
         ],
         "xaxis": "x",
         "y": [
          178,
          152,
          115
         ],
         "yaxis": "y"
        },
        {
         "alignmentgroup": "True",
         "hovertemplate": "Class=Human(1)_ML(1)<br>confidence level=%{x}<br>value=%{y}<extra></extra>",
         "legendgroup": "Human(1)_ML(1)",
         "marker": {
          "color": "#ab63fa",
          "opacity": 0.9,
          "pattern": {
           "shape": ""
          }
         },
         "name": "Human(1)_ML(1)",
         "offsetgroup": "Values11",
         "orientation": "v",
         "showlegend": true,
         "textposition": "auto",
         "type": "bar",
         "x": [
          "High",
          "So-so",
          "Low"
         ],
         "xaxis": "x",
         "y": [
          64,
          24,
          50
         ],
         "yaxis": "y"
        }
       ],
       "layout": {
        "barmode": "group",
        "legend": {
         "title": {
          "text": "Class"
         },
         "tracegroupgap": 0
        },
        "template": {
         "data": {
          "bar": [
           {
            "error_x": {
             "color": "#2a3f5f"
            },
            "error_y": {
             "color": "#2a3f5f"
            },
            "marker": {
             "line": {
              "color": "#E5ECF6",
              "width": 0.5
             },
             "pattern": {
              "fillmode": "overlay",
              "size": 10,
              "solidity": 0.2
             }
            },
            "type": "bar"
           }
          ],
          "barpolar": [
           {
            "marker": {
             "line": {
              "color": "#E5ECF6",
              "width": 0.5
             },
             "pattern": {
              "fillmode": "overlay",
              "size": 10,
              "solidity": 0.2
             }
            },
            "type": "barpolar"
           }
          ],
          "carpet": [
           {
            "aaxis": {
             "endlinecolor": "#2a3f5f",
             "gridcolor": "white",
             "linecolor": "white",
             "minorgridcolor": "white",
             "startlinecolor": "#2a3f5f"
            },
            "baxis": {
             "endlinecolor": "#2a3f5f",
             "gridcolor": "white",
             "linecolor": "white",
             "minorgridcolor": "white",
             "startlinecolor": "#2a3f5f"
            },
            "type": "carpet"
           }
          ],
          "choropleth": [
           {
            "colorbar": {
             "outlinewidth": 0,
             "ticks": ""
            },
            "type": "choropleth"
           }
          ],
          "contour": [
           {
            "colorbar": {
             "outlinewidth": 0,
             "ticks": ""
            },
            "colorscale": [
             [
              0,
              "#0d0887"
             ],
             [
              0.1111111111111111,
              "#46039f"
             ],
             [
              0.2222222222222222,
              "#7201a8"
             ],
             [
              0.3333333333333333,
              "#9c179e"
             ],
             [
              0.4444444444444444,
              "#bd3786"
             ],
             [
              0.5555555555555556,
              "#d8576b"
             ],
             [
              0.6666666666666666,
              "#ed7953"
             ],
             [
              0.7777777777777778,
              "#fb9f3a"
             ],
             [
              0.8888888888888888,
              "#fdca26"
             ],
             [
              1,
              "#f0f921"
             ]
            ],
            "type": "contour"
           }
          ],
          "contourcarpet": [
           {
            "colorbar": {
             "outlinewidth": 0,
             "ticks": ""
            },
            "type": "contourcarpet"
           }
          ],
          "heatmap": [
           {
            "colorbar": {
             "outlinewidth": 0,
             "ticks": ""
            },
            "colorscale": [
             [
              0,
              "#0d0887"
             ],
             [
              0.1111111111111111,
              "#46039f"
             ],
             [
              0.2222222222222222,
              "#7201a8"
             ],
             [
              0.3333333333333333,
              "#9c179e"
             ],
             [
              0.4444444444444444,
              "#bd3786"
             ],
             [
              0.5555555555555556,
              "#d8576b"
             ],
             [
              0.6666666666666666,
              "#ed7953"
             ],
             [
              0.7777777777777778,
              "#fb9f3a"
             ],
             [
              0.8888888888888888,
              "#fdca26"
             ],
             [
              1,
              "#f0f921"
             ]
            ],
            "type": "heatmap"
           }
          ],
          "heatmapgl": [
           {
            "colorbar": {
             "outlinewidth": 0,
             "ticks": ""
            },
            "colorscale": [
             [
              0,
              "#0d0887"
             ],
             [
              0.1111111111111111,
              "#46039f"
             ],
             [
              0.2222222222222222,
              "#7201a8"
             ],
             [
              0.3333333333333333,
              "#9c179e"
             ],
             [
              0.4444444444444444,
              "#bd3786"
             ],
             [
              0.5555555555555556,
              "#d8576b"
             ],
             [
              0.6666666666666666,
              "#ed7953"
             ],
             [
              0.7777777777777778,
              "#fb9f3a"
             ],
             [
              0.8888888888888888,
              "#fdca26"
             ],
             [
              1,
              "#f0f921"
             ]
            ],
            "type": "heatmapgl"
           }
          ],
          "histogram": [
           {
            "marker": {
             "pattern": {
              "fillmode": "overlay",
              "size": 10,
              "solidity": 0.2
             }
            },
            "type": "histogram"
           }
          ],
          "histogram2d": [
           {
            "colorbar": {
             "outlinewidth": 0,
             "ticks": ""
            },
            "colorscale": [
             [
              0,
              "#0d0887"
             ],
             [
              0.1111111111111111,
              "#46039f"
             ],
             [
              0.2222222222222222,
              "#7201a8"
             ],
             [
              0.3333333333333333,
              "#9c179e"
             ],
             [
              0.4444444444444444,
              "#bd3786"
             ],
             [
              0.5555555555555556,
              "#d8576b"
             ],
             [
              0.6666666666666666,
              "#ed7953"
             ],
             [
              0.7777777777777778,
              "#fb9f3a"
             ],
             [
              0.8888888888888888,
              "#fdca26"
             ],
             [
              1,
              "#f0f921"
             ]
            ],
            "type": "histogram2d"
           }
          ],
          "histogram2dcontour": [
           {
            "colorbar": {
             "outlinewidth": 0,
             "ticks": ""
            },
            "colorscale": [
             [
              0,
              "#0d0887"
             ],
             [
              0.1111111111111111,
              "#46039f"
             ],
             [
              0.2222222222222222,
              "#7201a8"
             ],
             [
              0.3333333333333333,
              "#9c179e"
             ],
             [
              0.4444444444444444,
              "#bd3786"
             ],
             [
              0.5555555555555556,
              "#d8576b"
             ],
             [
              0.6666666666666666,
              "#ed7953"
             ],
             [
              0.7777777777777778,
              "#fb9f3a"
             ],
             [
              0.8888888888888888,
              "#fdca26"
             ],
             [
              1,
              "#f0f921"
             ]
            ],
            "type": "histogram2dcontour"
           }
          ],
          "mesh3d": [
           {
            "colorbar": {
             "outlinewidth": 0,
             "ticks": ""
            },
            "type": "mesh3d"
           }
          ],
          "parcoords": [
           {
            "line": {
             "colorbar": {
              "outlinewidth": 0,
              "ticks": ""
             }
            },
            "type": "parcoords"
           }
          ],
          "pie": [
           {
            "automargin": true,
            "type": "pie"
           }
          ],
          "scatter": [
           {
            "marker": {
             "colorbar": {
              "outlinewidth": 0,
              "ticks": ""
             }
            },
            "type": "scatter"
           }
          ],
          "scatter3d": [
           {
            "line": {
             "colorbar": {
              "outlinewidth": 0,
              "ticks": ""
             }
            },
            "marker": {
             "colorbar": {
              "outlinewidth": 0,
              "ticks": ""
             }
            },
            "type": "scatter3d"
           }
          ],
          "scattercarpet": [
           {
            "marker": {
             "colorbar": {
              "outlinewidth": 0,
              "ticks": ""
             }
            },
            "type": "scattercarpet"
           }
          ],
          "scattergeo": [
           {
            "marker": {
             "colorbar": {
              "outlinewidth": 0,
              "ticks": ""
             }
            },
            "type": "scattergeo"
           }
          ],
          "scattergl": [
           {
            "marker": {
             "colorbar": {
              "outlinewidth": 0,
              "ticks": ""
             }
            },
            "type": "scattergl"
           }
          ],
          "scattermapbox": [
           {
            "marker": {
             "colorbar": {
              "outlinewidth": 0,
              "ticks": ""
             }
            },
            "type": "scattermapbox"
           }
          ],
          "scatterpolar": [
           {
            "marker": {
             "colorbar": {
              "outlinewidth": 0,
              "ticks": ""
             }
            },
            "type": "scatterpolar"
           }
          ],
          "scatterpolargl": [
           {
            "marker": {
             "colorbar": {
              "outlinewidth": 0,
              "ticks": ""
             }
            },
            "type": "scatterpolargl"
           }
          ],
          "scatterternary": [
           {
            "marker": {
             "colorbar": {
              "outlinewidth": 0,
              "ticks": ""
             }
            },
            "type": "scatterternary"
           }
          ],
          "surface": [
           {
            "colorbar": {
             "outlinewidth": 0,
             "ticks": ""
            },
            "colorscale": [
             [
              0,
              "#0d0887"
             ],
             [
              0.1111111111111111,
              "#46039f"
             ],
             [
              0.2222222222222222,
              "#7201a8"
             ],
             [
              0.3333333333333333,
              "#9c179e"
             ],
             [
              0.4444444444444444,
              "#bd3786"
             ],
             [
              0.5555555555555556,
              "#d8576b"
             ],
             [
              0.6666666666666666,
              "#ed7953"
             ],
             [
              0.7777777777777778,
              "#fb9f3a"
             ],
             [
              0.8888888888888888,
              "#fdca26"
             ],
             [
              1,
              "#f0f921"
             ]
            ],
            "type": "surface"
           }
          ],
          "table": [
           {
            "cells": {
             "fill": {
              "color": "#EBF0F8"
             },
             "line": {
              "color": "white"
             }
            },
            "header": {
             "fill": {
              "color": "#C8D4E3"
             },
             "line": {
              "color": "white"
             }
            },
            "type": "table"
           }
          ]
         },
         "layout": {
          "annotationdefaults": {
           "arrowcolor": "#2a3f5f",
           "arrowhead": 0,
           "arrowwidth": 1
          },
          "autotypenumbers": "strict",
          "coloraxis": {
           "colorbar": {
            "outlinewidth": 0,
            "ticks": ""
           }
          },
          "colorscale": {
           "diverging": [
            [
             0,
             "#8e0152"
            ],
            [
             0.1,
             "#c51b7d"
            ],
            [
             0.2,
             "#de77ae"
            ],
            [
             0.3,
             "#f1b6da"
            ],
            [
             0.4,
             "#fde0ef"
            ],
            [
             0.5,
             "#f7f7f7"
            ],
            [
             0.6,
             "#e6f5d0"
            ],
            [
             0.7,
             "#b8e186"
            ],
            [
             0.8,
             "#7fbc41"
            ],
            [
             0.9,
             "#4d9221"
            ],
            [
             1,
             "#276419"
            ]
           ],
           "sequential": [
            [
             0,
             "#0d0887"
            ],
            [
             0.1111111111111111,
             "#46039f"
            ],
            [
             0.2222222222222222,
             "#7201a8"
            ],
            [
             0.3333333333333333,
             "#9c179e"
            ],
            [
             0.4444444444444444,
             "#bd3786"
            ],
            [
             0.5555555555555556,
             "#d8576b"
            ],
            [
             0.6666666666666666,
             "#ed7953"
            ],
            [
             0.7777777777777778,
             "#fb9f3a"
            ],
            [
             0.8888888888888888,
             "#fdca26"
            ],
            [
             1,
             "#f0f921"
            ]
           ],
           "sequentialminus": [
            [
             0,
             "#0d0887"
            ],
            [
             0.1111111111111111,
             "#46039f"
            ],
            [
             0.2222222222222222,
             "#7201a8"
            ],
            [
             0.3333333333333333,
             "#9c179e"
            ],
            [
             0.4444444444444444,
             "#bd3786"
            ],
            [
             0.5555555555555556,
             "#d8576b"
            ],
            [
             0.6666666666666666,
             "#ed7953"
            ],
            [
             0.7777777777777778,
             "#fb9f3a"
            ],
            [
             0.8888888888888888,
             "#fdca26"
            ],
            [
             1,
             "#f0f921"
            ]
           ]
          },
          "colorway": [
           "#636efa",
           "#EF553B",
           "#00cc96",
           "#ab63fa",
           "#FFA15A",
           "#19d3f3",
           "#FF6692",
           "#B6E880",
           "#FF97FF",
           "#FECB52"
          ],
          "font": {
           "color": "#2a3f5f"
          },
          "geo": {
           "bgcolor": "white",
           "lakecolor": "white",
           "landcolor": "#E5ECF6",
           "showlakes": true,
           "showland": true,
           "subunitcolor": "white"
          },
          "hoverlabel": {
           "align": "left"
          },
          "hovermode": "closest",
          "mapbox": {
           "style": "light"
          },
          "paper_bgcolor": "white",
          "plot_bgcolor": "#E5ECF6",
          "polar": {
           "angularaxis": {
            "gridcolor": "white",
            "linecolor": "white",
            "ticks": ""
           },
           "bgcolor": "#E5ECF6",
           "radialaxis": {
            "gridcolor": "white",
            "linecolor": "white",
            "ticks": ""
           }
          },
          "scene": {
           "xaxis": {
            "backgroundcolor": "#E5ECF6",
            "gridcolor": "white",
            "gridwidth": 2,
            "linecolor": "white",
            "showbackground": true,
            "ticks": "",
            "zerolinecolor": "white"
           },
           "yaxis": {
            "backgroundcolor": "#E5ECF6",
            "gridcolor": "white",
            "gridwidth": 2,
            "linecolor": "white",
            "showbackground": true,
            "ticks": "",
            "zerolinecolor": "white"
           },
           "zaxis": {
            "backgroundcolor": "#E5ECF6",
            "gridcolor": "white",
            "gridwidth": 2,
            "linecolor": "white",
            "showbackground": true,
            "ticks": "",
            "zerolinecolor": "white"
           }
          },
          "shapedefaults": {
           "line": {
            "color": "#2a3f5f"
           }
          },
          "ternary": {
           "aaxis": {
            "gridcolor": "white",
            "linecolor": "white",
            "ticks": ""
           },
           "baxis": {
            "gridcolor": "white",
            "linecolor": "white",
            "ticks": ""
           },
           "bgcolor": "#E5ECF6",
           "caxis": {
            "gridcolor": "white",
            "linecolor": "white",
            "ticks": ""
           }
          },
          "title": {
           "x": 0.05
          },
          "xaxis": {
           "automargin": true,
           "gridcolor": "white",
           "linecolor": "white",
           "ticks": "",
           "title": {
            "standoff": 15
           },
           "zerolinecolor": "white",
           "zerolinewidth": 2
          },
          "yaxis": {
           "automargin": true,
           "gridcolor": "white",
           "linecolor": "white",
           "ticks": "",
           "title": {
            "standoff": 15
           },
           "zerolinecolor": "white",
           "zerolinewidth": 2
          }
         }
        },
        "title": {
         "text": "Distribution of Confidence Level across Scenarios in the Dataset."
        },
        "xaxis": {
         "anchor": "y",
         "domain": [
          0,
          1
         ],
         "title": {
          "text": "confidence level"
         }
        },
        "yaxis": {
         "anchor": "x",
         "domain": [
          0,
          1
         ],
         "title": {
          "text": "value"
         }
        }
       }
      },
      "text/html": [
       "<div>                            <div id=\"6799a34e-a254-4483-bcb8-50bd4c11f510\" class=\"plotly-graph-div\" style=\"height:525px; width:100%;\"></div>            <script type=\"text/javascript\">                require([\"plotly\"], function(Plotly) {                    window.PLOTLYENV=window.PLOTLYENV || {};                                    if (document.getElementById(\"6799a34e-a254-4483-bcb8-50bd4c11f510\")) {                    Plotly.newPlot(                        \"6799a34e-a254-4483-bcb8-50bd4c11f510\",                        [{\"alignmentgroup\":\"True\",\"hovertemplate\":\"Class=Human(0)_ML(0)<br>confidence level=%{x}<br>value=%{y}<extra></extra>\",\"legendgroup\":\"Human(0)_ML(0)\",\"marker\":{\"color\":\"#636efa\",\"opacity\":0.9,\"pattern\":{\"shape\":\"\"}},\"name\":\"Human(0)_ML(0)\",\"offsetgroup\":\"Values00\",\"orientation\":\"v\",\"showlegend\":true,\"textposition\":\"auto\",\"type\":\"bar\",\"x\":[\"High\",\"So-so\",\"Low\"],\"xaxis\":\"x\",\"y\":[399,247,186],\"yaxis\":\"y\"},{\"alignmentgroup\":\"True\",\"hovertemplate\":\"Class=Human(0)_ML(1)<br>confidence level=%{x}<br>value=%{y}<extra></extra>\",\"legendgroup\":\"Human(0)_ML(1)\",\"marker\":{\"color\":\"#EF553B\",\"opacity\":0.9,\"pattern\":{\"shape\":\"\"}},\"name\":\"Human(0)_ML(1)\",\"offsetgroup\":\"Values01\",\"orientation\":\"v\",\"showlegend\":true,\"textposition\":\"auto\",\"type\":\"bar\",\"x\":[\"High\",\"So-so\",\"Low\"],\"xaxis\":\"x\",\"y\":[12,29,41],\"yaxis\":\"y\"},{\"alignmentgroup\":\"True\",\"hovertemplate\":\"Class=Human(1)_ML(0)<br>confidence level=%{x}<br>value=%{y}<extra></extra>\",\"legendgroup\":\"Human(1)_ML(0)\",\"marker\":{\"color\":\"#00cc96\",\"opacity\":0.9,\"pattern\":{\"shape\":\"\"}},\"name\":\"Human(1)_ML(0)\",\"offsetgroup\":\"Values10\",\"orientation\":\"v\",\"showlegend\":true,\"textposition\":\"auto\",\"type\":\"bar\",\"x\":[\"High\",\"So-so\",\"Low\"],\"xaxis\":\"x\",\"y\":[178,152,115],\"yaxis\":\"y\"},{\"alignmentgroup\":\"True\",\"hovertemplate\":\"Class=Human(1)_ML(1)<br>confidence level=%{x}<br>value=%{y}<extra></extra>\",\"legendgroup\":\"Human(1)_ML(1)\",\"marker\":{\"color\":\"#ab63fa\",\"opacity\":0.9,\"pattern\":{\"shape\":\"\"}},\"name\":\"Human(1)_ML(1)\",\"offsetgroup\":\"Values11\",\"orientation\":\"v\",\"showlegend\":true,\"textposition\":\"auto\",\"type\":\"bar\",\"x\":[\"High\",\"So-so\",\"Low\"],\"xaxis\":\"x\",\"y\":[64,24,50],\"yaxis\":\"y\"}],                        {\"barmode\":\"group\",\"legend\":{\"title\":{\"text\":\"Class\"},\"tracegroupgap\":0},\"template\":{\"data\":{\"bar\":[{\"error_x\":{\"color\":\"#2a3f5f\"},\"error_y\":{\"color\":\"#2a3f5f\"},\"marker\":{\"line\":{\"color\":\"#E5ECF6\",\"width\":0.5},\"pattern\":{\"fillmode\":\"overlay\",\"size\":10,\"solidity\":0.2}},\"type\":\"bar\"}],\"barpolar\":[{\"marker\":{\"line\":{\"color\":\"#E5ECF6\",\"width\":0.5},\"pattern\":{\"fillmode\":\"overlay\",\"size\":10,\"solidity\":0.2}},\"type\":\"barpolar\"}],\"carpet\":[{\"aaxis\":{\"endlinecolor\":\"#2a3f5f\",\"gridcolor\":\"white\",\"linecolor\":\"white\",\"minorgridcolor\":\"white\",\"startlinecolor\":\"#2a3f5f\"},\"baxis\":{\"endlinecolor\":\"#2a3f5f\",\"gridcolor\":\"white\",\"linecolor\":\"white\",\"minorgridcolor\":\"white\",\"startlinecolor\":\"#2a3f5f\"},\"type\":\"carpet\"}],\"choropleth\":[{\"colorbar\":{\"outlinewidth\":0,\"ticks\":\"\"},\"type\":\"choropleth\"}],\"contour\":[{\"colorbar\":{\"outlinewidth\":0,\"ticks\":\"\"},\"colorscale\":[[0.0,\"#0d0887\"],[0.1111111111111111,\"#46039f\"],[0.2222222222222222,\"#7201a8\"],[0.3333333333333333,\"#9c179e\"],[0.4444444444444444,\"#bd3786\"],[0.5555555555555556,\"#d8576b\"],[0.6666666666666666,\"#ed7953\"],[0.7777777777777778,\"#fb9f3a\"],[0.8888888888888888,\"#fdca26\"],[1.0,\"#f0f921\"]],\"type\":\"contour\"}],\"contourcarpet\":[{\"colorbar\":{\"outlinewidth\":0,\"ticks\":\"\"},\"type\":\"contourcarpet\"}],\"heatmap\":[{\"colorbar\":{\"outlinewidth\":0,\"ticks\":\"\"},\"colorscale\":[[0.0,\"#0d0887\"],[0.1111111111111111,\"#46039f\"],[0.2222222222222222,\"#7201a8\"],[0.3333333333333333,\"#9c179e\"],[0.4444444444444444,\"#bd3786\"],[0.5555555555555556,\"#d8576b\"],[0.6666666666666666,\"#ed7953\"],[0.7777777777777778,\"#fb9f3a\"],[0.8888888888888888,\"#fdca26\"],[1.0,\"#f0f921\"]],\"type\":\"heatmap\"}],\"heatmapgl\":[{\"colorbar\":{\"outlinewidth\":0,\"ticks\":\"\"},\"colorscale\":[[0.0,\"#0d0887\"],[0.1111111111111111,\"#46039f\"],[0.2222222222222222,\"#7201a8\"],[0.3333333333333333,\"#9c179e\"],[0.4444444444444444,\"#bd3786\"],[0.5555555555555556,\"#d8576b\"],[0.6666666666666666,\"#ed7953\"],[0.7777777777777778,\"#fb9f3a\"],[0.8888888888888888,\"#fdca26\"],[1.0,\"#f0f921\"]],\"type\":\"heatmapgl\"}],\"histogram\":[{\"marker\":{\"pattern\":{\"fillmode\":\"overlay\",\"size\":10,\"solidity\":0.2}},\"type\":\"histogram\"}],\"histogram2d\":[{\"colorbar\":{\"outlinewidth\":0,\"ticks\":\"\"},\"colorscale\":[[0.0,\"#0d0887\"],[0.1111111111111111,\"#46039f\"],[0.2222222222222222,\"#7201a8\"],[0.3333333333333333,\"#9c179e\"],[0.4444444444444444,\"#bd3786\"],[0.5555555555555556,\"#d8576b\"],[0.6666666666666666,\"#ed7953\"],[0.7777777777777778,\"#fb9f3a\"],[0.8888888888888888,\"#fdca26\"],[1.0,\"#f0f921\"]],\"type\":\"histogram2d\"}],\"histogram2dcontour\":[{\"colorbar\":{\"outlinewidth\":0,\"ticks\":\"\"},\"colorscale\":[[0.0,\"#0d0887\"],[0.1111111111111111,\"#46039f\"],[0.2222222222222222,\"#7201a8\"],[0.3333333333333333,\"#9c179e\"],[0.4444444444444444,\"#bd3786\"],[0.5555555555555556,\"#d8576b\"],[0.6666666666666666,\"#ed7953\"],[0.7777777777777778,\"#fb9f3a\"],[0.8888888888888888,\"#fdca26\"],[1.0,\"#f0f921\"]],\"type\":\"histogram2dcontour\"}],\"mesh3d\":[{\"colorbar\":{\"outlinewidth\":0,\"ticks\":\"\"},\"type\":\"mesh3d\"}],\"parcoords\":[{\"line\":{\"colorbar\":{\"outlinewidth\":0,\"ticks\":\"\"}},\"type\":\"parcoords\"}],\"pie\":[{\"automargin\":true,\"type\":\"pie\"}],\"scatter\":[{\"marker\":{\"colorbar\":{\"outlinewidth\":0,\"ticks\":\"\"}},\"type\":\"scatter\"}],\"scatter3d\":[{\"line\":{\"colorbar\":{\"outlinewidth\":0,\"ticks\":\"\"}},\"marker\":{\"colorbar\":{\"outlinewidth\":0,\"ticks\":\"\"}},\"type\":\"scatter3d\"}],\"scattercarpet\":[{\"marker\":{\"colorbar\":{\"outlinewidth\":0,\"ticks\":\"\"}},\"type\":\"scattercarpet\"}],\"scattergeo\":[{\"marker\":{\"colorbar\":{\"outlinewidth\":0,\"ticks\":\"\"}},\"type\":\"scattergeo\"}],\"scattergl\":[{\"marker\":{\"colorbar\":{\"outlinewidth\":0,\"ticks\":\"\"}},\"type\":\"scattergl\"}],\"scattermapbox\":[{\"marker\":{\"colorbar\":{\"outlinewidth\":0,\"ticks\":\"\"}},\"type\":\"scattermapbox\"}],\"scatterpolar\":[{\"marker\":{\"colorbar\":{\"outlinewidth\":0,\"ticks\":\"\"}},\"type\":\"scatterpolar\"}],\"scatterpolargl\":[{\"marker\":{\"colorbar\":{\"outlinewidth\":0,\"ticks\":\"\"}},\"type\":\"scatterpolargl\"}],\"scatterternary\":[{\"marker\":{\"colorbar\":{\"outlinewidth\":0,\"ticks\":\"\"}},\"type\":\"scatterternary\"}],\"surface\":[{\"colorbar\":{\"outlinewidth\":0,\"ticks\":\"\"},\"colorscale\":[[0.0,\"#0d0887\"],[0.1111111111111111,\"#46039f\"],[0.2222222222222222,\"#7201a8\"],[0.3333333333333333,\"#9c179e\"],[0.4444444444444444,\"#bd3786\"],[0.5555555555555556,\"#d8576b\"],[0.6666666666666666,\"#ed7953\"],[0.7777777777777778,\"#fb9f3a\"],[0.8888888888888888,\"#fdca26\"],[1.0,\"#f0f921\"]],\"type\":\"surface\"}],\"table\":[{\"cells\":{\"fill\":{\"color\":\"#EBF0F8\"},\"line\":{\"color\":\"white\"}},\"header\":{\"fill\":{\"color\":\"#C8D4E3\"},\"line\":{\"color\":\"white\"}},\"type\":\"table\"}]},\"layout\":{\"annotationdefaults\":{\"arrowcolor\":\"#2a3f5f\",\"arrowhead\":0,\"arrowwidth\":1},\"autotypenumbers\":\"strict\",\"coloraxis\":{\"colorbar\":{\"outlinewidth\":0,\"ticks\":\"\"}},\"colorscale\":{\"diverging\":[[0,\"#8e0152\"],[0.1,\"#c51b7d\"],[0.2,\"#de77ae\"],[0.3,\"#f1b6da\"],[0.4,\"#fde0ef\"],[0.5,\"#f7f7f7\"],[0.6,\"#e6f5d0\"],[0.7,\"#b8e186\"],[0.8,\"#7fbc41\"],[0.9,\"#4d9221\"],[1,\"#276419\"]],\"sequential\":[[0.0,\"#0d0887\"],[0.1111111111111111,\"#46039f\"],[0.2222222222222222,\"#7201a8\"],[0.3333333333333333,\"#9c179e\"],[0.4444444444444444,\"#bd3786\"],[0.5555555555555556,\"#d8576b\"],[0.6666666666666666,\"#ed7953\"],[0.7777777777777778,\"#fb9f3a\"],[0.8888888888888888,\"#fdca26\"],[1.0,\"#f0f921\"]],\"sequentialminus\":[[0.0,\"#0d0887\"],[0.1111111111111111,\"#46039f\"],[0.2222222222222222,\"#7201a8\"],[0.3333333333333333,\"#9c179e\"],[0.4444444444444444,\"#bd3786\"],[0.5555555555555556,\"#d8576b\"],[0.6666666666666666,\"#ed7953\"],[0.7777777777777778,\"#fb9f3a\"],[0.8888888888888888,\"#fdca26\"],[1.0,\"#f0f921\"]]},\"colorway\":[\"#636efa\",\"#EF553B\",\"#00cc96\",\"#ab63fa\",\"#FFA15A\",\"#19d3f3\",\"#FF6692\",\"#B6E880\",\"#FF97FF\",\"#FECB52\"],\"font\":{\"color\":\"#2a3f5f\"},\"geo\":{\"bgcolor\":\"white\",\"lakecolor\":\"white\",\"landcolor\":\"#E5ECF6\",\"showlakes\":true,\"showland\":true,\"subunitcolor\":\"white\"},\"hoverlabel\":{\"align\":\"left\"},\"hovermode\":\"closest\",\"mapbox\":{\"style\":\"light\"},\"paper_bgcolor\":\"white\",\"plot_bgcolor\":\"#E5ECF6\",\"polar\":{\"angularaxis\":{\"gridcolor\":\"white\",\"linecolor\":\"white\",\"ticks\":\"\"},\"bgcolor\":\"#E5ECF6\",\"radialaxis\":{\"gridcolor\":\"white\",\"linecolor\":\"white\",\"ticks\":\"\"}},\"scene\":{\"xaxis\":{\"backgroundcolor\":\"#E5ECF6\",\"gridcolor\":\"white\",\"gridwidth\":2,\"linecolor\":\"white\",\"showbackground\":true,\"ticks\":\"\",\"zerolinecolor\":\"white\"},\"yaxis\":{\"backgroundcolor\":\"#E5ECF6\",\"gridcolor\":\"white\",\"gridwidth\":2,\"linecolor\":\"white\",\"showbackground\":true,\"ticks\":\"\",\"zerolinecolor\":\"white\"},\"zaxis\":{\"backgroundcolor\":\"#E5ECF6\",\"gridcolor\":\"white\",\"gridwidth\":2,\"linecolor\":\"white\",\"showbackground\":true,\"ticks\":\"\",\"zerolinecolor\":\"white\"}},\"shapedefaults\":{\"line\":{\"color\":\"#2a3f5f\"}},\"ternary\":{\"aaxis\":{\"gridcolor\":\"white\",\"linecolor\":\"white\",\"ticks\":\"\"},\"baxis\":{\"gridcolor\":\"white\",\"linecolor\":\"white\",\"ticks\":\"\"},\"bgcolor\":\"#E5ECF6\",\"caxis\":{\"gridcolor\":\"white\",\"linecolor\":\"white\",\"ticks\":\"\"}},\"title\":{\"x\":0.05},\"xaxis\":{\"automargin\":true,\"gridcolor\":\"white\",\"linecolor\":\"white\",\"ticks\":\"\",\"title\":{\"standoff\":15},\"zerolinecolor\":\"white\",\"zerolinewidth\":2},\"yaxis\":{\"automargin\":true,\"gridcolor\":\"white\",\"linecolor\":\"white\",\"ticks\":\"\",\"title\":{\"standoff\":15},\"zerolinecolor\":\"white\",\"zerolinewidth\":2}}},\"title\":{\"text\":\"Distribution of Confidence Level across Scenarios in the Dataset.\"},\"xaxis\":{\"anchor\":\"y\",\"domain\":[0.0,1.0],\"title\":{\"text\":\"confidence level\"}},\"yaxis\":{\"anchor\":\"x\",\"domain\":[0.0,1.0],\"title\":{\"text\":\"value\"}}},                        {\"responsive\": true}                    ).then(function(){\n",
       "                            \n",
       "var gd = document.getElementById('6799a34e-a254-4483-bcb8-50bd4c11f510');\n",
       "var x = new MutationObserver(function (mutations, observer) {{\n",
       "        var display = window.getComputedStyle(gd).display;\n",
       "        if (!display || display === 'none') {{\n",
       "            console.log([gd, 'removed!']);\n",
       "            Plotly.purge(gd);\n",
       "            observer.disconnect();\n",
       "        }}\n",
       "}});\n",
       "\n",
       "// Listen for the removal of the full notebook cells\n",
       "var notebookContainer = gd.closest('#notebook-container');\n",
       "if (notebookContainer) {{\n",
       "    x.observe(notebookContainer, {childList: true});\n",
       "}}\n",
       "\n",
       "// Listen for the clearing of the current output cell\n",
       "var outputEl = gd.closest('.output');\n",
       "if (outputEl) {{\n",
       "    x.observe(outputEl, {childList: true});\n",
       "}}\n",
       "\n",
       "                        })                };                });            </script>        </div>"
      ]
     },
     "metadata": {},
     "output_type": "display_data"
    }
   ],
   "source": [
    "\n",
    "barchart = px.bar(data_frame= df,\n",
    "                 x= \"confidence level\",\n",
    "                 y=[df.Values00, df.Values01, df.Values10, df.Values11],\n",
    "                 #color=\"counts\",\n",
    "                 opacity=0.9,\n",
    "                 orientation=\"v\",\n",
    "                 #color_discrete_sequence=[\"green\", \"red\"],\n",
    "                  barmode=\"group\",\n",
    "                  title=\"Distribution of Confidence Level across Scenarios in the Dataset.\",\n",
    "                  labels={\"variable\": \"Class\",\n",
    "                          \"Class\": [\"Sybil\", \"Not Sybil\"],\n",
    "                         \"x\": \"Methods\", \n",
    "                         \"true_counts\": \"True\",\n",
    "                         \"false_counts\": \"False\"}\n",
    "                 ) \n",
    "\n",
    "newlabels ={\"Values00\": \"Human(0)_ML(0)\", \"Values01\": \"Human(0)_ML(1)\",\n",
    "           \"Values10\": \"Human(1)_ML(0)\", \"Values11\": \"Human(1)_ML(1)\",}\n",
    "barchart.for_each_trace(lambda t: t.update(name=newlabels[t.name], \n",
    "                                          legendgroup= newlabels[t.name],\n",
    "                                          hovertemplate = t.hovertemplate.replace(t.name, newlabels[t.name])))\n",
    "\n",
    "\n",
    "barchart.show()"
   ]
  },
  {
   "cell_type": "code",
   "execution_count": 96,
   "id": "c5fe619a",
   "metadata": {},
   "outputs": [
    {
     "data": {
      "application/vnd.plotly.v1+json": {
       "config": {
        "plotlyServerURL": "https://plot.ly"
       },
       "data": [
        {
         "alignmentgroup": "True",
         "hovertemplate": "Class=Human(0)_ML(0)<br>Confidence Levels=%{x}<br>Percentages=%{y}<extra></extra>",
         "legendgroup": "Human(0)_ML(0)",
         "marker": {
          "color": "#636efa",
          "opacity": 0.9,
          "pattern": {
           "shape": ""
          }
         },
         "name": "Human(0)_ML(0)",
         "offsetgroup": "Values00",
         "orientation": "v",
         "showlegend": true,
         "textposition": "auto",
         "type": "bar",
         "x": [
          "High",
          "So-so",
          "Low"
         ],
         "xaxis": "x",
         "y": [
          47.96,
          29.69,
          22.35
         ],
         "yaxis": "y"
        },
        {
         "alignmentgroup": "True",
         "hovertemplate": "Class=Human(0)_ML(1)<br>Confidence Levels=%{x}<br>Percentages=%{y}<extra></extra>",
         "legendgroup": "Human(0)_ML(1)",
         "marker": {
          "color": "#EF553B",
          "opacity": 0.9,
          "pattern": {
           "shape": ""
          }
         },
         "name": "Human(0)_ML(1)",
         "offsetgroup": "Values01",
         "orientation": "v",
         "showlegend": true,
         "textposition": "auto",
         "type": "bar",
         "x": [
          "High",
          "So-so",
          "Low"
         ],
         "xaxis": "x",
         "y": [
          14.63,
          35.37,
          50
         ],
         "yaxis": "y"
        },
        {
         "alignmentgroup": "True",
         "hovertemplate": "Class=Human(1)_ML(0)<br>Confidence Levels=%{x}<br>Percentages=%{y}<extra></extra>",
         "legendgroup": "Human(1)_ML(0)",
         "marker": {
          "color": "#00cc96",
          "opacity": 0.9,
          "pattern": {
           "shape": ""
          }
         },
         "name": "Human(1)_ML(0)",
         "offsetgroup": "Values10",
         "orientation": "v",
         "showlegend": true,
         "textposition": "auto",
         "type": "bar",
         "x": [
          "High",
          "So-so",
          "Low"
         ],
         "xaxis": "x",
         "y": [
          40,
          34.16,
          25.84
         ],
         "yaxis": "y"
        },
        {
         "alignmentgroup": "True",
         "hovertemplate": "Class=Human(1)_ML(1)<br>Confidence Levels=%{x}<br>Percentages=%{y}<extra></extra>",
         "legendgroup": "Human(1)_ML(1)",
         "marker": {
          "color": "#ab63fa",
          "opacity": 0.9,
          "pattern": {
           "shape": ""
          }
         },
         "name": "Human(1)_ML(1)",
         "offsetgroup": "Values11",
         "orientation": "v",
         "showlegend": true,
         "textposition": "auto",
         "type": "bar",
         "x": [
          "High",
          "So-so",
          "Low"
         ],
         "xaxis": "x",
         "y": [
          46.38,
          17.39,
          36.23
         ],
         "yaxis": "y"
        }
       ],
       "layout": {
        "barmode": "group",
        "legend": {
         "title": {
          "text": "Class"
         },
         "tracegroupgap": 0
        },
        "template": {
         "data": {
          "bar": [
           {
            "error_x": {
             "color": "#2a3f5f"
            },
            "error_y": {
             "color": "#2a3f5f"
            },
            "marker": {
             "line": {
              "color": "#E5ECF6",
              "width": 0.5
             },
             "pattern": {
              "fillmode": "overlay",
              "size": 10,
              "solidity": 0.2
             }
            },
            "type": "bar"
           }
          ],
          "barpolar": [
           {
            "marker": {
             "line": {
              "color": "#E5ECF6",
              "width": 0.5
             },
             "pattern": {
              "fillmode": "overlay",
              "size": 10,
              "solidity": 0.2
             }
            },
            "type": "barpolar"
           }
          ],
          "carpet": [
           {
            "aaxis": {
             "endlinecolor": "#2a3f5f",
             "gridcolor": "white",
             "linecolor": "white",
             "minorgridcolor": "white",
             "startlinecolor": "#2a3f5f"
            },
            "baxis": {
             "endlinecolor": "#2a3f5f",
             "gridcolor": "white",
             "linecolor": "white",
             "minorgridcolor": "white",
             "startlinecolor": "#2a3f5f"
            },
            "type": "carpet"
           }
          ],
          "choropleth": [
           {
            "colorbar": {
             "outlinewidth": 0,
             "ticks": ""
            },
            "type": "choropleth"
           }
          ],
          "contour": [
           {
            "colorbar": {
             "outlinewidth": 0,
             "ticks": ""
            },
            "colorscale": [
             [
              0,
              "#0d0887"
             ],
             [
              0.1111111111111111,
              "#46039f"
             ],
             [
              0.2222222222222222,
              "#7201a8"
             ],
             [
              0.3333333333333333,
              "#9c179e"
             ],
             [
              0.4444444444444444,
              "#bd3786"
             ],
             [
              0.5555555555555556,
              "#d8576b"
             ],
             [
              0.6666666666666666,
              "#ed7953"
             ],
             [
              0.7777777777777778,
              "#fb9f3a"
             ],
             [
              0.8888888888888888,
              "#fdca26"
             ],
             [
              1,
              "#f0f921"
             ]
            ],
            "type": "contour"
           }
          ],
          "contourcarpet": [
           {
            "colorbar": {
             "outlinewidth": 0,
             "ticks": ""
            },
            "type": "contourcarpet"
           }
          ],
          "heatmap": [
           {
            "colorbar": {
             "outlinewidth": 0,
             "ticks": ""
            },
            "colorscale": [
             [
              0,
              "#0d0887"
             ],
             [
              0.1111111111111111,
              "#46039f"
             ],
             [
              0.2222222222222222,
              "#7201a8"
             ],
             [
              0.3333333333333333,
              "#9c179e"
             ],
             [
              0.4444444444444444,
              "#bd3786"
             ],
             [
              0.5555555555555556,
              "#d8576b"
             ],
             [
              0.6666666666666666,
              "#ed7953"
             ],
             [
              0.7777777777777778,
              "#fb9f3a"
             ],
             [
              0.8888888888888888,
              "#fdca26"
             ],
             [
              1,
              "#f0f921"
             ]
            ],
            "type": "heatmap"
           }
          ],
          "heatmapgl": [
           {
            "colorbar": {
             "outlinewidth": 0,
             "ticks": ""
            },
            "colorscale": [
             [
              0,
              "#0d0887"
             ],
             [
              0.1111111111111111,
              "#46039f"
             ],
             [
              0.2222222222222222,
              "#7201a8"
             ],
             [
              0.3333333333333333,
              "#9c179e"
             ],
             [
              0.4444444444444444,
              "#bd3786"
             ],
             [
              0.5555555555555556,
              "#d8576b"
             ],
             [
              0.6666666666666666,
              "#ed7953"
             ],
             [
              0.7777777777777778,
              "#fb9f3a"
             ],
             [
              0.8888888888888888,
              "#fdca26"
             ],
             [
              1,
              "#f0f921"
             ]
            ],
            "type": "heatmapgl"
           }
          ],
          "histogram": [
           {
            "marker": {
             "pattern": {
              "fillmode": "overlay",
              "size": 10,
              "solidity": 0.2
             }
            },
            "type": "histogram"
           }
          ],
          "histogram2d": [
           {
            "colorbar": {
             "outlinewidth": 0,
             "ticks": ""
            },
            "colorscale": [
             [
              0,
              "#0d0887"
             ],
             [
              0.1111111111111111,
              "#46039f"
             ],
             [
              0.2222222222222222,
              "#7201a8"
             ],
             [
              0.3333333333333333,
              "#9c179e"
             ],
             [
              0.4444444444444444,
              "#bd3786"
             ],
             [
              0.5555555555555556,
              "#d8576b"
             ],
             [
              0.6666666666666666,
              "#ed7953"
             ],
             [
              0.7777777777777778,
              "#fb9f3a"
             ],
             [
              0.8888888888888888,
              "#fdca26"
             ],
             [
              1,
              "#f0f921"
             ]
            ],
            "type": "histogram2d"
           }
          ],
          "histogram2dcontour": [
           {
            "colorbar": {
             "outlinewidth": 0,
             "ticks": ""
            },
            "colorscale": [
             [
              0,
              "#0d0887"
             ],
             [
              0.1111111111111111,
              "#46039f"
             ],
             [
              0.2222222222222222,
              "#7201a8"
             ],
             [
              0.3333333333333333,
              "#9c179e"
             ],
             [
              0.4444444444444444,
              "#bd3786"
             ],
             [
              0.5555555555555556,
              "#d8576b"
             ],
             [
              0.6666666666666666,
              "#ed7953"
             ],
             [
              0.7777777777777778,
              "#fb9f3a"
             ],
             [
              0.8888888888888888,
              "#fdca26"
             ],
             [
              1,
              "#f0f921"
             ]
            ],
            "type": "histogram2dcontour"
           }
          ],
          "mesh3d": [
           {
            "colorbar": {
             "outlinewidth": 0,
             "ticks": ""
            },
            "type": "mesh3d"
           }
          ],
          "parcoords": [
           {
            "line": {
             "colorbar": {
              "outlinewidth": 0,
              "ticks": ""
             }
            },
            "type": "parcoords"
           }
          ],
          "pie": [
           {
            "automargin": true,
            "type": "pie"
           }
          ],
          "scatter": [
           {
            "marker": {
             "colorbar": {
              "outlinewidth": 0,
              "ticks": ""
             }
            },
            "type": "scatter"
           }
          ],
          "scatter3d": [
           {
            "line": {
             "colorbar": {
              "outlinewidth": 0,
              "ticks": ""
             }
            },
            "marker": {
             "colorbar": {
              "outlinewidth": 0,
              "ticks": ""
             }
            },
            "type": "scatter3d"
           }
          ],
          "scattercarpet": [
           {
            "marker": {
             "colorbar": {
              "outlinewidth": 0,
              "ticks": ""
             }
            },
            "type": "scattercarpet"
           }
          ],
          "scattergeo": [
           {
            "marker": {
             "colorbar": {
              "outlinewidth": 0,
              "ticks": ""
             }
            },
            "type": "scattergeo"
           }
          ],
          "scattergl": [
           {
            "marker": {
             "colorbar": {
              "outlinewidth": 0,
              "ticks": ""
             }
            },
            "type": "scattergl"
           }
          ],
          "scattermapbox": [
           {
            "marker": {
             "colorbar": {
              "outlinewidth": 0,
              "ticks": ""
             }
            },
            "type": "scattermapbox"
           }
          ],
          "scatterpolar": [
           {
            "marker": {
             "colorbar": {
              "outlinewidth": 0,
              "ticks": ""
             }
            },
            "type": "scatterpolar"
           }
          ],
          "scatterpolargl": [
           {
            "marker": {
             "colorbar": {
              "outlinewidth": 0,
              "ticks": ""
             }
            },
            "type": "scatterpolargl"
           }
          ],
          "scatterternary": [
           {
            "marker": {
             "colorbar": {
              "outlinewidth": 0,
              "ticks": ""
             }
            },
            "type": "scatterternary"
           }
          ],
          "surface": [
           {
            "colorbar": {
             "outlinewidth": 0,
             "ticks": ""
            },
            "colorscale": [
             [
              0,
              "#0d0887"
             ],
             [
              0.1111111111111111,
              "#46039f"
             ],
             [
              0.2222222222222222,
              "#7201a8"
             ],
             [
              0.3333333333333333,
              "#9c179e"
             ],
             [
              0.4444444444444444,
              "#bd3786"
             ],
             [
              0.5555555555555556,
              "#d8576b"
             ],
             [
              0.6666666666666666,
              "#ed7953"
             ],
             [
              0.7777777777777778,
              "#fb9f3a"
             ],
             [
              0.8888888888888888,
              "#fdca26"
             ],
             [
              1,
              "#f0f921"
             ]
            ],
            "type": "surface"
           }
          ],
          "table": [
           {
            "cells": {
             "fill": {
              "color": "#EBF0F8"
             },
             "line": {
              "color": "white"
             }
            },
            "header": {
             "fill": {
              "color": "#C8D4E3"
             },
             "line": {
              "color": "white"
             }
            },
            "type": "table"
           }
          ]
         },
         "layout": {
          "annotationdefaults": {
           "arrowcolor": "#2a3f5f",
           "arrowhead": 0,
           "arrowwidth": 1
          },
          "autotypenumbers": "strict",
          "coloraxis": {
           "colorbar": {
            "outlinewidth": 0,
            "ticks": ""
           }
          },
          "colorscale": {
           "diverging": [
            [
             0,
             "#8e0152"
            ],
            [
             0.1,
             "#c51b7d"
            ],
            [
             0.2,
             "#de77ae"
            ],
            [
             0.3,
             "#f1b6da"
            ],
            [
             0.4,
             "#fde0ef"
            ],
            [
             0.5,
             "#f7f7f7"
            ],
            [
             0.6,
             "#e6f5d0"
            ],
            [
             0.7,
             "#b8e186"
            ],
            [
             0.8,
             "#7fbc41"
            ],
            [
             0.9,
             "#4d9221"
            ],
            [
             1,
             "#276419"
            ]
           ],
           "sequential": [
            [
             0,
             "#0d0887"
            ],
            [
             0.1111111111111111,
             "#46039f"
            ],
            [
             0.2222222222222222,
             "#7201a8"
            ],
            [
             0.3333333333333333,
             "#9c179e"
            ],
            [
             0.4444444444444444,
             "#bd3786"
            ],
            [
             0.5555555555555556,
             "#d8576b"
            ],
            [
             0.6666666666666666,
             "#ed7953"
            ],
            [
             0.7777777777777778,
             "#fb9f3a"
            ],
            [
             0.8888888888888888,
             "#fdca26"
            ],
            [
             1,
             "#f0f921"
            ]
           ],
           "sequentialminus": [
            [
             0,
             "#0d0887"
            ],
            [
             0.1111111111111111,
             "#46039f"
            ],
            [
             0.2222222222222222,
             "#7201a8"
            ],
            [
             0.3333333333333333,
             "#9c179e"
            ],
            [
             0.4444444444444444,
             "#bd3786"
            ],
            [
             0.5555555555555556,
             "#d8576b"
            ],
            [
             0.6666666666666666,
             "#ed7953"
            ],
            [
             0.7777777777777778,
             "#fb9f3a"
            ],
            [
             0.8888888888888888,
             "#fdca26"
            ],
            [
             1,
             "#f0f921"
            ]
           ]
          },
          "colorway": [
           "#636efa",
           "#EF553B",
           "#00cc96",
           "#ab63fa",
           "#FFA15A",
           "#19d3f3",
           "#FF6692",
           "#B6E880",
           "#FF97FF",
           "#FECB52"
          ],
          "font": {
           "color": "#2a3f5f"
          },
          "geo": {
           "bgcolor": "white",
           "lakecolor": "white",
           "landcolor": "#E5ECF6",
           "showlakes": true,
           "showland": true,
           "subunitcolor": "white"
          },
          "hoverlabel": {
           "align": "left"
          },
          "hovermode": "closest",
          "mapbox": {
           "style": "light"
          },
          "paper_bgcolor": "white",
          "plot_bgcolor": "#E5ECF6",
          "polar": {
           "angularaxis": {
            "gridcolor": "white",
            "linecolor": "white",
            "ticks": ""
           },
           "bgcolor": "#E5ECF6",
           "radialaxis": {
            "gridcolor": "white",
            "linecolor": "white",
            "ticks": ""
           }
          },
          "scene": {
           "xaxis": {
            "backgroundcolor": "#E5ECF6",
            "gridcolor": "white",
            "gridwidth": 2,
            "linecolor": "white",
            "showbackground": true,
            "ticks": "",
            "zerolinecolor": "white"
           },
           "yaxis": {
            "backgroundcolor": "#E5ECF6",
            "gridcolor": "white",
            "gridwidth": 2,
            "linecolor": "white",
            "showbackground": true,
            "ticks": "",
            "zerolinecolor": "white"
           },
           "zaxis": {
            "backgroundcolor": "#E5ECF6",
            "gridcolor": "white",
            "gridwidth": 2,
            "linecolor": "white",
            "showbackground": true,
            "ticks": "",
            "zerolinecolor": "white"
           }
          },
          "shapedefaults": {
           "line": {
            "color": "#2a3f5f"
           }
          },
          "ternary": {
           "aaxis": {
            "gridcolor": "white",
            "linecolor": "white",
            "ticks": ""
           },
           "baxis": {
            "gridcolor": "white",
            "linecolor": "white",
            "ticks": ""
           },
           "bgcolor": "#E5ECF6",
           "caxis": {
            "gridcolor": "white",
            "linecolor": "white",
            "ticks": ""
           }
          },
          "title": {
           "x": 0.05
          },
          "xaxis": {
           "automargin": true,
           "gridcolor": "white",
           "linecolor": "white",
           "ticks": "",
           "title": {
            "standoff": 15
           },
           "zerolinecolor": "white",
           "zerolinewidth": 2
          },
          "yaxis": {
           "automargin": true,
           "gridcolor": "white",
           "linecolor": "white",
           "ticks": "",
           "title": {
            "standoff": 15
           },
           "zerolinecolor": "white",
           "zerolinewidth": 2
          }
         }
        },
        "title": {
         "text": "Percentages of Confidence Level across Scenarios in the Dataset."
        },
        "xaxis": {
         "anchor": "y",
         "domain": [
          0,
          1
         ],
         "title": {
          "text": "Confidence Levels"
         }
        },
        "yaxis": {
         "anchor": "x",
         "domain": [
          0,
          1
         ],
         "tickmode": "array",
         "ticktext": [
          "0%",
          "10%",
          "20%",
          "30%",
          "40%",
          "50%"
         ],
         "tickvals": [
          0,
          10,
          20,
          30,
          40,
          50
         ],
         "title": {
          "text": "Percentages"
         }
        }
       }
      },
      "text/html": [
       "<div>                            <div id=\"5a47cbde-c358-465e-be08-9afc3f07cd3c\" class=\"plotly-graph-div\" style=\"height:525px; width:100%;\"></div>            <script type=\"text/javascript\">                require([\"plotly\"], function(Plotly) {                    window.PLOTLYENV=window.PLOTLYENV || {};                                    if (document.getElementById(\"5a47cbde-c358-465e-be08-9afc3f07cd3c\")) {                    Plotly.newPlot(                        \"5a47cbde-c358-465e-be08-9afc3f07cd3c\",                        [{\"alignmentgroup\":\"True\",\"hovertemplate\":\"Class=Human(0)_ML(0)<br>Confidence Levels=%{x}<br>Percentages=%{y}<extra></extra>\",\"legendgroup\":\"Human(0)_ML(0)\",\"marker\":{\"color\":\"#636efa\",\"opacity\":0.9,\"pattern\":{\"shape\":\"\"}},\"name\":\"Human(0)_ML(0)\",\"offsetgroup\":\"Values00\",\"orientation\":\"v\",\"showlegend\":true,\"textposition\":\"auto\",\"type\":\"bar\",\"x\":[\"High\",\"So-so\",\"Low\"],\"xaxis\":\"x\",\"y\":[47.96,29.69,22.35],\"yaxis\":\"y\"},{\"alignmentgroup\":\"True\",\"hovertemplate\":\"Class=Human(0)_ML(1)<br>Confidence Levels=%{x}<br>Percentages=%{y}<extra></extra>\",\"legendgroup\":\"Human(0)_ML(1)\",\"marker\":{\"color\":\"#EF553B\",\"opacity\":0.9,\"pattern\":{\"shape\":\"\"}},\"name\":\"Human(0)_ML(1)\",\"offsetgroup\":\"Values01\",\"orientation\":\"v\",\"showlegend\":true,\"textposition\":\"auto\",\"type\":\"bar\",\"x\":[\"High\",\"So-so\",\"Low\"],\"xaxis\":\"x\",\"y\":[14.63,35.37,50.0],\"yaxis\":\"y\"},{\"alignmentgroup\":\"True\",\"hovertemplate\":\"Class=Human(1)_ML(0)<br>Confidence Levels=%{x}<br>Percentages=%{y}<extra></extra>\",\"legendgroup\":\"Human(1)_ML(0)\",\"marker\":{\"color\":\"#00cc96\",\"opacity\":0.9,\"pattern\":{\"shape\":\"\"}},\"name\":\"Human(1)_ML(0)\",\"offsetgroup\":\"Values10\",\"orientation\":\"v\",\"showlegend\":true,\"textposition\":\"auto\",\"type\":\"bar\",\"x\":[\"High\",\"So-so\",\"Low\"],\"xaxis\":\"x\",\"y\":[40.0,34.16,25.84],\"yaxis\":\"y\"},{\"alignmentgroup\":\"True\",\"hovertemplate\":\"Class=Human(1)_ML(1)<br>Confidence Levels=%{x}<br>Percentages=%{y}<extra></extra>\",\"legendgroup\":\"Human(1)_ML(1)\",\"marker\":{\"color\":\"#ab63fa\",\"opacity\":0.9,\"pattern\":{\"shape\":\"\"}},\"name\":\"Human(1)_ML(1)\",\"offsetgroup\":\"Values11\",\"orientation\":\"v\",\"showlegend\":true,\"textposition\":\"auto\",\"type\":\"bar\",\"x\":[\"High\",\"So-so\",\"Low\"],\"xaxis\":\"x\",\"y\":[46.38,17.39,36.23],\"yaxis\":\"y\"}],                        {\"barmode\":\"group\",\"legend\":{\"title\":{\"text\":\"Class\"},\"tracegroupgap\":0},\"template\":{\"data\":{\"bar\":[{\"error_x\":{\"color\":\"#2a3f5f\"},\"error_y\":{\"color\":\"#2a3f5f\"},\"marker\":{\"line\":{\"color\":\"#E5ECF6\",\"width\":0.5},\"pattern\":{\"fillmode\":\"overlay\",\"size\":10,\"solidity\":0.2}},\"type\":\"bar\"}],\"barpolar\":[{\"marker\":{\"line\":{\"color\":\"#E5ECF6\",\"width\":0.5},\"pattern\":{\"fillmode\":\"overlay\",\"size\":10,\"solidity\":0.2}},\"type\":\"barpolar\"}],\"carpet\":[{\"aaxis\":{\"endlinecolor\":\"#2a3f5f\",\"gridcolor\":\"white\",\"linecolor\":\"white\",\"minorgridcolor\":\"white\",\"startlinecolor\":\"#2a3f5f\"},\"baxis\":{\"endlinecolor\":\"#2a3f5f\",\"gridcolor\":\"white\",\"linecolor\":\"white\",\"minorgridcolor\":\"white\",\"startlinecolor\":\"#2a3f5f\"},\"type\":\"carpet\"}],\"choropleth\":[{\"colorbar\":{\"outlinewidth\":0,\"ticks\":\"\"},\"type\":\"choropleth\"}],\"contour\":[{\"colorbar\":{\"outlinewidth\":0,\"ticks\":\"\"},\"colorscale\":[[0.0,\"#0d0887\"],[0.1111111111111111,\"#46039f\"],[0.2222222222222222,\"#7201a8\"],[0.3333333333333333,\"#9c179e\"],[0.4444444444444444,\"#bd3786\"],[0.5555555555555556,\"#d8576b\"],[0.6666666666666666,\"#ed7953\"],[0.7777777777777778,\"#fb9f3a\"],[0.8888888888888888,\"#fdca26\"],[1.0,\"#f0f921\"]],\"type\":\"contour\"}],\"contourcarpet\":[{\"colorbar\":{\"outlinewidth\":0,\"ticks\":\"\"},\"type\":\"contourcarpet\"}],\"heatmap\":[{\"colorbar\":{\"outlinewidth\":0,\"ticks\":\"\"},\"colorscale\":[[0.0,\"#0d0887\"],[0.1111111111111111,\"#46039f\"],[0.2222222222222222,\"#7201a8\"],[0.3333333333333333,\"#9c179e\"],[0.4444444444444444,\"#bd3786\"],[0.5555555555555556,\"#d8576b\"],[0.6666666666666666,\"#ed7953\"],[0.7777777777777778,\"#fb9f3a\"],[0.8888888888888888,\"#fdca26\"],[1.0,\"#f0f921\"]],\"type\":\"heatmap\"}],\"heatmapgl\":[{\"colorbar\":{\"outlinewidth\":0,\"ticks\":\"\"},\"colorscale\":[[0.0,\"#0d0887\"],[0.1111111111111111,\"#46039f\"],[0.2222222222222222,\"#7201a8\"],[0.3333333333333333,\"#9c179e\"],[0.4444444444444444,\"#bd3786\"],[0.5555555555555556,\"#d8576b\"],[0.6666666666666666,\"#ed7953\"],[0.7777777777777778,\"#fb9f3a\"],[0.8888888888888888,\"#fdca26\"],[1.0,\"#f0f921\"]],\"type\":\"heatmapgl\"}],\"histogram\":[{\"marker\":{\"pattern\":{\"fillmode\":\"overlay\",\"size\":10,\"solidity\":0.2}},\"type\":\"histogram\"}],\"histogram2d\":[{\"colorbar\":{\"outlinewidth\":0,\"ticks\":\"\"},\"colorscale\":[[0.0,\"#0d0887\"],[0.1111111111111111,\"#46039f\"],[0.2222222222222222,\"#7201a8\"],[0.3333333333333333,\"#9c179e\"],[0.4444444444444444,\"#bd3786\"],[0.5555555555555556,\"#d8576b\"],[0.6666666666666666,\"#ed7953\"],[0.7777777777777778,\"#fb9f3a\"],[0.8888888888888888,\"#fdca26\"],[1.0,\"#f0f921\"]],\"type\":\"histogram2d\"}],\"histogram2dcontour\":[{\"colorbar\":{\"outlinewidth\":0,\"ticks\":\"\"},\"colorscale\":[[0.0,\"#0d0887\"],[0.1111111111111111,\"#46039f\"],[0.2222222222222222,\"#7201a8\"],[0.3333333333333333,\"#9c179e\"],[0.4444444444444444,\"#bd3786\"],[0.5555555555555556,\"#d8576b\"],[0.6666666666666666,\"#ed7953\"],[0.7777777777777778,\"#fb9f3a\"],[0.8888888888888888,\"#fdca26\"],[1.0,\"#f0f921\"]],\"type\":\"histogram2dcontour\"}],\"mesh3d\":[{\"colorbar\":{\"outlinewidth\":0,\"ticks\":\"\"},\"type\":\"mesh3d\"}],\"parcoords\":[{\"line\":{\"colorbar\":{\"outlinewidth\":0,\"ticks\":\"\"}},\"type\":\"parcoords\"}],\"pie\":[{\"automargin\":true,\"type\":\"pie\"}],\"scatter\":[{\"marker\":{\"colorbar\":{\"outlinewidth\":0,\"ticks\":\"\"}},\"type\":\"scatter\"}],\"scatter3d\":[{\"line\":{\"colorbar\":{\"outlinewidth\":0,\"ticks\":\"\"}},\"marker\":{\"colorbar\":{\"outlinewidth\":0,\"ticks\":\"\"}},\"type\":\"scatter3d\"}],\"scattercarpet\":[{\"marker\":{\"colorbar\":{\"outlinewidth\":0,\"ticks\":\"\"}},\"type\":\"scattercarpet\"}],\"scattergeo\":[{\"marker\":{\"colorbar\":{\"outlinewidth\":0,\"ticks\":\"\"}},\"type\":\"scattergeo\"}],\"scattergl\":[{\"marker\":{\"colorbar\":{\"outlinewidth\":0,\"ticks\":\"\"}},\"type\":\"scattergl\"}],\"scattermapbox\":[{\"marker\":{\"colorbar\":{\"outlinewidth\":0,\"ticks\":\"\"}},\"type\":\"scattermapbox\"}],\"scatterpolar\":[{\"marker\":{\"colorbar\":{\"outlinewidth\":0,\"ticks\":\"\"}},\"type\":\"scatterpolar\"}],\"scatterpolargl\":[{\"marker\":{\"colorbar\":{\"outlinewidth\":0,\"ticks\":\"\"}},\"type\":\"scatterpolargl\"}],\"scatterternary\":[{\"marker\":{\"colorbar\":{\"outlinewidth\":0,\"ticks\":\"\"}},\"type\":\"scatterternary\"}],\"surface\":[{\"colorbar\":{\"outlinewidth\":0,\"ticks\":\"\"},\"colorscale\":[[0.0,\"#0d0887\"],[0.1111111111111111,\"#46039f\"],[0.2222222222222222,\"#7201a8\"],[0.3333333333333333,\"#9c179e\"],[0.4444444444444444,\"#bd3786\"],[0.5555555555555556,\"#d8576b\"],[0.6666666666666666,\"#ed7953\"],[0.7777777777777778,\"#fb9f3a\"],[0.8888888888888888,\"#fdca26\"],[1.0,\"#f0f921\"]],\"type\":\"surface\"}],\"table\":[{\"cells\":{\"fill\":{\"color\":\"#EBF0F8\"},\"line\":{\"color\":\"white\"}},\"header\":{\"fill\":{\"color\":\"#C8D4E3\"},\"line\":{\"color\":\"white\"}},\"type\":\"table\"}]},\"layout\":{\"annotationdefaults\":{\"arrowcolor\":\"#2a3f5f\",\"arrowhead\":0,\"arrowwidth\":1},\"autotypenumbers\":\"strict\",\"coloraxis\":{\"colorbar\":{\"outlinewidth\":0,\"ticks\":\"\"}},\"colorscale\":{\"diverging\":[[0,\"#8e0152\"],[0.1,\"#c51b7d\"],[0.2,\"#de77ae\"],[0.3,\"#f1b6da\"],[0.4,\"#fde0ef\"],[0.5,\"#f7f7f7\"],[0.6,\"#e6f5d0\"],[0.7,\"#b8e186\"],[0.8,\"#7fbc41\"],[0.9,\"#4d9221\"],[1,\"#276419\"]],\"sequential\":[[0.0,\"#0d0887\"],[0.1111111111111111,\"#46039f\"],[0.2222222222222222,\"#7201a8\"],[0.3333333333333333,\"#9c179e\"],[0.4444444444444444,\"#bd3786\"],[0.5555555555555556,\"#d8576b\"],[0.6666666666666666,\"#ed7953\"],[0.7777777777777778,\"#fb9f3a\"],[0.8888888888888888,\"#fdca26\"],[1.0,\"#f0f921\"]],\"sequentialminus\":[[0.0,\"#0d0887\"],[0.1111111111111111,\"#46039f\"],[0.2222222222222222,\"#7201a8\"],[0.3333333333333333,\"#9c179e\"],[0.4444444444444444,\"#bd3786\"],[0.5555555555555556,\"#d8576b\"],[0.6666666666666666,\"#ed7953\"],[0.7777777777777778,\"#fb9f3a\"],[0.8888888888888888,\"#fdca26\"],[1.0,\"#f0f921\"]]},\"colorway\":[\"#636efa\",\"#EF553B\",\"#00cc96\",\"#ab63fa\",\"#FFA15A\",\"#19d3f3\",\"#FF6692\",\"#B6E880\",\"#FF97FF\",\"#FECB52\"],\"font\":{\"color\":\"#2a3f5f\"},\"geo\":{\"bgcolor\":\"white\",\"lakecolor\":\"white\",\"landcolor\":\"#E5ECF6\",\"showlakes\":true,\"showland\":true,\"subunitcolor\":\"white\"},\"hoverlabel\":{\"align\":\"left\"},\"hovermode\":\"closest\",\"mapbox\":{\"style\":\"light\"},\"paper_bgcolor\":\"white\",\"plot_bgcolor\":\"#E5ECF6\",\"polar\":{\"angularaxis\":{\"gridcolor\":\"white\",\"linecolor\":\"white\",\"ticks\":\"\"},\"bgcolor\":\"#E5ECF6\",\"radialaxis\":{\"gridcolor\":\"white\",\"linecolor\":\"white\",\"ticks\":\"\"}},\"scene\":{\"xaxis\":{\"backgroundcolor\":\"#E5ECF6\",\"gridcolor\":\"white\",\"gridwidth\":2,\"linecolor\":\"white\",\"showbackground\":true,\"ticks\":\"\",\"zerolinecolor\":\"white\"},\"yaxis\":{\"backgroundcolor\":\"#E5ECF6\",\"gridcolor\":\"white\",\"gridwidth\":2,\"linecolor\":\"white\",\"showbackground\":true,\"ticks\":\"\",\"zerolinecolor\":\"white\"},\"zaxis\":{\"backgroundcolor\":\"#E5ECF6\",\"gridcolor\":\"white\",\"gridwidth\":2,\"linecolor\":\"white\",\"showbackground\":true,\"ticks\":\"\",\"zerolinecolor\":\"white\"}},\"shapedefaults\":{\"line\":{\"color\":\"#2a3f5f\"}},\"ternary\":{\"aaxis\":{\"gridcolor\":\"white\",\"linecolor\":\"white\",\"ticks\":\"\"},\"baxis\":{\"gridcolor\":\"white\",\"linecolor\":\"white\",\"ticks\":\"\"},\"bgcolor\":\"#E5ECF6\",\"caxis\":{\"gridcolor\":\"white\",\"linecolor\":\"white\",\"ticks\":\"\"}},\"title\":{\"x\":0.05},\"xaxis\":{\"automargin\":true,\"gridcolor\":\"white\",\"linecolor\":\"white\",\"ticks\":\"\",\"title\":{\"standoff\":15},\"zerolinecolor\":\"white\",\"zerolinewidth\":2},\"yaxis\":{\"automargin\":true,\"gridcolor\":\"white\",\"linecolor\":\"white\",\"ticks\":\"\",\"title\":{\"standoff\":15},\"zerolinecolor\":\"white\",\"zerolinewidth\":2}}},\"title\":{\"text\":\"Percentages of Confidence Level across Scenarios in the Dataset.\"},\"xaxis\":{\"anchor\":\"y\",\"domain\":[0.0,1.0],\"title\":{\"text\":\"Confidence Levels\"}},\"yaxis\":{\"anchor\":\"x\",\"domain\":[0.0,1.0],\"tickmode\":\"array\",\"ticktext\":[\"0%\",\"10%\",\"20%\",\"30%\",\"40%\",\"50%\"],\"tickvals\":[0,10,20,30,40,50],\"title\":{\"text\":\"Percentages\"}}},                        {\"responsive\": true}                    ).then(function(){\n",
       "                            \n",
       "var gd = document.getElementById('5a47cbde-c358-465e-be08-9afc3f07cd3c');\n",
       "var x = new MutationObserver(function (mutations, observer) {{\n",
       "        var display = window.getComputedStyle(gd).display;\n",
       "        if (!display || display === 'none') {{\n",
       "            console.log([gd, 'removed!']);\n",
       "            Plotly.purge(gd);\n",
       "            observer.disconnect();\n",
       "        }}\n",
       "}});\n",
       "\n",
       "// Listen for the removal of the full notebook cells\n",
       "var notebookContainer = gd.closest('#notebook-container');\n",
       "if (notebookContainer) {{\n",
       "    x.observe(notebookContainer, {childList: true});\n",
       "}}\n",
       "\n",
       "// Listen for the clearing of the current output cell\n",
       "var outputEl = gd.closest('.output');\n",
       "if (outputEl) {{\n",
       "    x.observe(outputEl, {childList: true});\n",
       "}}\n",
       "\n",
       "                        })                };                });            </script>        </div>"
      ]
     },
     "metadata": {},
     "output_type": "display_data"
    }
   ],
   "source": [
    "\n",
    "barchart = px.bar(data_frame= dff,\n",
    "                 x= \"confidence level\",\n",
    "                 y=[dff.Values00, dff.Values01, dff.Values10, dff.Values11],\n",
    "                 #color=\"counts\",\n",
    "                 opacity=0.9,\n",
    "                 orientation=\"v\",\n",
    "                 #color_discrete_sequence=[\"green\", \"red\"],\n",
    "                  barmode=\"group\",\n",
    "                  title=\"Percentages of Confidence Level across Scenarios in the Dataset.\",\n",
    "                  labels={\"variable\": \"Class\",\n",
    "                         \"value\": \"Percentages\", \n",
    "                         \"confidence level\": \"Confidence Levels\",}\n",
    "                 ) \n",
    "\n",
    "barchart.update_layout(yaxis = dict(tickmode = 'array',tickvals = [0, 10, 20, 30, 40, 50], ticktext = ['0%', '10%', '20%', '30%', '40%', '50%']))\n",
    "newlabels ={\"Values00\": \"Human(0)_ML(0)\", \"Values01\": \"Human(0)_ML(1)\",\n",
    "           \"Values10\": \"Human(1)_ML(0)\", \"Values11\": \"Human(1)_ML(1)\",}\n",
    "barchart.for_each_trace(lambda t: t.update(name=newlabels[t.name], \n",
    "                                          legendgroup= newlabels[t.name],\n",
    "                                          hovertemplate = t.hovertemplate.replace(t.name, newlabels[t.name])))\n",
    "\n",
    "\n",
    "barchart.show()"
   ]
  },
  {
   "cell_type": "code",
   "execution_count": 97,
   "id": "8a2c95ef",
   "metadata": {},
   "outputs": [
    {
     "data": {
      "application/vnd.plotly.v1+json": {
       "config": {
        "plotlyServerURL": "https://plot.ly"
       },
       "data": [
        {
         "alignmentgroup": "True",
         "hovertemplate": "Class=Human(0)_ML(0)<br>Confidence Levels=%{x}<br>Percentages=%{y}<extra></extra>",
         "legendgroup": "Human(0)_ML(0)",
         "marker": {
          "color": "#1F77B4",
          "opacity": 0.9,
          "pattern": {
           "shape": ""
          }
         },
         "name": "Human(0)_ML(0)",
         "offsetgroup": "Values00",
         "orientation": "v",
         "showlegend": true,
         "textposition": "auto",
         "type": "bar",
         "x": [
          "High",
          "So-so",
          "Low"
         ],
         "xaxis": "x",
         "y": [
          47.96,
          29.69,
          22.35
         ],
         "yaxis": "y"
        },
        {
         "alignmentgroup": "True",
         "hovertemplate": "Class=Human(0)_ML(1)<br>Confidence Levels=%{x}<br>Percentages=%{y}<extra></extra>",
         "legendgroup": "Human(0)_ML(1)",
         "marker": {
          "color": "#FF7F0E",
          "opacity": 0.9,
          "pattern": {
           "shape": ""
          }
         },
         "name": "Human(0)_ML(1)",
         "offsetgroup": "Values01",
         "orientation": "v",
         "showlegend": true,
         "textposition": "auto",
         "type": "bar",
         "x": [
          "High",
          "So-so",
          "Low"
         ],
         "xaxis": "x",
         "y": [
          14.63,
          35.37,
          50
         ],
         "yaxis": "y"
        },
        {
         "alignmentgroup": "True",
         "hovertemplate": "Class=Human(1)_ML(0)<br>Confidence Levels=%{x}<br>Percentages=%{y}<extra></extra>",
         "legendgroup": "Human(1)_ML(0)",
         "marker": {
          "color": "#2CA02C",
          "opacity": 0.9,
          "pattern": {
           "shape": ""
          }
         },
         "name": "Human(1)_ML(0)",
         "offsetgroup": "Values10",
         "orientation": "v",
         "showlegend": true,
         "textposition": "auto",
         "type": "bar",
         "x": [
          "High",
          "So-so",
          "Low"
         ],
         "xaxis": "x",
         "y": [
          40,
          34.16,
          25.84
         ],
         "yaxis": "y"
        },
        {
         "alignmentgroup": "True",
         "hovertemplate": "Class=Human(1)_ML(1)<br>Confidence Levels=%{x}<br>Percentages=%{y}<extra></extra>",
         "legendgroup": "Human(1)_ML(1)",
         "marker": {
          "color": "#D62728",
          "opacity": 0.9,
          "pattern": {
           "shape": ""
          }
         },
         "name": "Human(1)_ML(1)",
         "offsetgroup": "Values11",
         "orientation": "v",
         "showlegend": true,
         "textposition": "auto",
         "type": "bar",
         "x": [
          "High",
          "So-so",
          "Low"
         ],
         "xaxis": "x",
         "y": [
          46.38,
          17.39,
          36.23
         ],
         "yaxis": "y"
        }
       ],
       "layout": {
        "barmode": "group",
        "legend": {
         "title": {
          "text": "Class"
         },
         "tracegroupgap": 0
        },
        "template": {
         "data": {
          "pie": [
           {
            "automargin": true,
            "type": "pie"
           }
          ],
          "scatter": [
           {
            "line": {
             "width": 3
            },
            "marker": {
             "size": 9
            },
            "type": "scatter"
           }
          ],
          "scatter3d": [
           {
            "line": {
             "width": 3
            },
            "marker": {
             "size": 9
            },
            "type": "scatter3d"
           }
          ],
          "scattergeo": [
           {
            "line": {
             "width": 3
            },
            "marker": {
             "size": 9
            },
            "type": "scattergeo"
           }
          ],
          "scattergl": [
           {
            "line": {
             "width": 3
            },
            "marker": {
             "size": 9
            },
            "type": "scattergl"
           }
          ],
          "scatterpolar": [
           {
            "line": {
             "width": 3
            },
            "marker": {
             "size": 9
            },
            "type": "scatterpolar"
           }
          ],
          "scatterpolargl": [
           {
            "line": {
             "width": 3
            },
            "marker": {
             "size": 9
            },
            "type": "scatterpolargl"
           }
          ],
          "scatterternary": [
           {
            "line": {
             "width": 3
            },
            "marker": {
             "size": 9
            },
            "type": "scatterternary"
           }
          ],
          "table": [
           {
            "cells": {
             "height": 30
            },
            "header": {
             "height": 36
            },
            "type": "table"
           }
          ]
         },
         "layout": {
          "font": {
           "size": 18
          },
          "xaxis": {
           "title": {
            "standoff": 15
           }
          },
          "yaxis": {
           "title": {
            "standoff": 15
           }
          }
         }
        },
        "title": {
         "text": "Percentages of Confidence Level across Scenarios in the Dataset."
        },
        "xaxis": {
         "anchor": "y",
         "domain": [
          0,
          1
         ],
         "title": {
          "text": "Confidence Levels"
         }
        },
        "yaxis": {
         "anchor": "x",
         "domain": [
          0,
          1
         ],
         "tickmode": "array",
         "ticktext": [
          "0%",
          "10%",
          "20%",
          "30%",
          "40%",
          "50%"
         ],
         "tickvals": [
          0,
          10,
          20,
          30,
          40,
          50
         ],
         "title": {
          "text": "Percentages"
         }
        }
       }
      },
      "text/html": [
       "<div>                            <div id=\"7997efde-82b3-4c7b-aada-3c946187f2af\" class=\"plotly-graph-div\" style=\"height:525px; width:100%;\"></div>            <script type=\"text/javascript\">                require([\"plotly\"], function(Plotly) {                    window.PLOTLYENV=window.PLOTLYENV || {};                                    if (document.getElementById(\"7997efde-82b3-4c7b-aada-3c946187f2af\")) {                    Plotly.newPlot(                        \"7997efde-82b3-4c7b-aada-3c946187f2af\",                        [{\"alignmentgroup\":\"True\",\"hovertemplate\":\"Class=Human(0)_ML(0)<br>Confidence Levels=%{x}<br>Percentages=%{y}<extra></extra>\",\"legendgroup\":\"Human(0)_ML(0)\",\"marker\":{\"color\":\"#1F77B4\",\"opacity\":0.9,\"pattern\":{\"shape\":\"\"}},\"name\":\"Human(0)_ML(0)\",\"offsetgroup\":\"Values00\",\"orientation\":\"v\",\"showlegend\":true,\"textposition\":\"auto\",\"type\":\"bar\",\"x\":[\"High\",\"So-so\",\"Low\"],\"xaxis\":\"x\",\"y\":[47.96,29.69,22.35],\"yaxis\":\"y\"},{\"alignmentgroup\":\"True\",\"hovertemplate\":\"Class=Human(0)_ML(1)<br>Confidence Levels=%{x}<br>Percentages=%{y}<extra></extra>\",\"legendgroup\":\"Human(0)_ML(1)\",\"marker\":{\"color\":\"#FF7F0E\",\"opacity\":0.9,\"pattern\":{\"shape\":\"\"}},\"name\":\"Human(0)_ML(1)\",\"offsetgroup\":\"Values01\",\"orientation\":\"v\",\"showlegend\":true,\"textposition\":\"auto\",\"type\":\"bar\",\"x\":[\"High\",\"So-so\",\"Low\"],\"xaxis\":\"x\",\"y\":[14.63,35.37,50.0],\"yaxis\":\"y\"},{\"alignmentgroup\":\"True\",\"hovertemplate\":\"Class=Human(1)_ML(0)<br>Confidence Levels=%{x}<br>Percentages=%{y}<extra></extra>\",\"legendgroup\":\"Human(1)_ML(0)\",\"marker\":{\"color\":\"#2CA02C\",\"opacity\":0.9,\"pattern\":{\"shape\":\"\"}},\"name\":\"Human(1)_ML(0)\",\"offsetgroup\":\"Values10\",\"orientation\":\"v\",\"showlegend\":true,\"textposition\":\"auto\",\"type\":\"bar\",\"x\":[\"High\",\"So-so\",\"Low\"],\"xaxis\":\"x\",\"y\":[40.0,34.16,25.84],\"yaxis\":\"y\"},{\"alignmentgroup\":\"True\",\"hovertemplate\":\"Class=Human(1)_ML(1)<br>Confidence Levels=%{x}<br>Percentages=%{y}<extra></extra>\",\"legendgroup\":\"Human(1)_ML(1)\",\"marker\":{\"color\":\"#D62728\",\"opacity\":0.9,\"pattern\":{\"shape\":\"\"}},\"name\":\"Human(1)_ML(1)\",\"offsetgroup\":\"Values11\",\"orientation\":\"v\",\"showlegend\":true,\"textposition\":\"auto\",\"type\":\"bar\",\"x\":[\"High\",\"So-so\",\"Low\"],\"xaxis\":\"x\",\"y\":[46.38,17.39,36.23],\"yaxis\":\"y\"}],                        {\"barmode\":\"group\",\"legend\":{\"title\":{\"text\":\"Class\"},\"tracegroupgap\":0},\"template\":{\"data\":{\"pie\":[{\"automargin\":true,\"type\":\"pie\"}],\"scatter\":[{\"line\":{\"width\":3},\"marker\":{\"size\":9},\"type\":\"scatter\"}],\"scatter3d\":[{\"line\":{\"width\":3},\"marker\":{\"size\":9},\"type\":\"scatter3d\"}],\"scattergeo\":[{\"line\":{\"width\":3},\"marker\":{\"size\":9},\"type\":\"scattergeo\"}],\"scattergl\":[{\"line\":{\"width\":3},\"marker\":{\"size\":9},\"type\":\"scattergl\"}],\"scatterpolar\":[{\"line\":{\"width\":3},\"marker\":{\"size\":9},\"type\":\"scatterpolar\"}],\"scatterpolargl\":[{\"line\":{\"width\":3},\"marker\":{\"size\":9},\"type\":\"scatterpolargl\"}],\"scatterternary\":[{\"line\":{\"width\":3},\"marker\":{\"size\":9},\"type\":\"scatterternary\"}],\"table\":[{\"cells\":{\"height\":30},\"header\":{\"height\":36},\"type\":\"table\"}]},\"layout\":{\"font\":{\"size\":18},\"xaxis\":{\"title\":{\"standoff\":15}},\"yaxis\":{\"title\":{\"standoff\":15}}}},\"title\":{\"text\":\"Percentages of Confidence Level across Scenarios in the Dataset.\"},\"xaxis\":{\"anchor\":\"y\",\"domain\":[0.0,1.0],\"title\":{\"text\":\"Confidence Levels\"}},\"yaxis\":{\"anchor\":\"x\",\"domain\":[0.0,1.0],\"tickmode\":\"array\",\"ticktext\":[\"0%\",\"10%\",\"20%\",\"30%\",\"40%\",\"50%\"],\"tickvals\":[0,10,20,30,40,50],\"title\":{\"text\":\"Percentages\"}}},                        {\"responsive\": true}                    ).then(function(){\n",
       "                            \n",
       "var gd = document.getElementById('7997efde-82b3-4c7b-aada-3c946187f2af');\n",
       "var x = new MutationObserver(function (mutations, observer) {{\n",
       "        var display = window.getComputedStyle(gd).display;\n",
       "        if (!display || display === 'none') {{\n",
       "            console.log([gd, 'removed!']);\n",
       "            Plotly.purge(gd);\n",
       "            observer.disconnect();\n",
       "        }}\n",
       "}});\n",
       "\n",
       "// Listen for the removal of the full notebook cells\n",
       "var notebookContainer = gd.closest('#notebook-container');\n",
       "if (notebookContainer) {{\n",
       "    x.observe(notebookContainer, {childList: true});\n",
       "}}\n",
       "\n",
       "// Listen for the clearing of the current output cell\n",
       "var outputEl = gd.closest('.output');\n",
       "if (outputEl) {{\n",
       "    x.observe(outputEl, {childList: true});\n",
       "}}\n",
       "\n",
       "                        })                };                });            </script>        </div>"
      ]
     },
     "metadata": {},
     "output_type": "display_data"
    }
   ],
   "source": [
    "\n",
    "barchart = px.bar(data_frame= dff,\n",
    "                 x= \"confidence level\",\n",
    "                 y=[dff.Values00, dff.Values01, dff.Values10, dff.Values11],\n",
    "                 #color=\"counts\",\n",
    "                 opacity=0.9,\n",
    "                 orientation=\"v\",\n",
    "                  template=\"presentation\",\n",
    "                 #color_discrete_sequence=[\"green\", \"red\"],\n",
    "                  barmode=\"group\",\n",
    "                  title=\"Percentages of Confidence Level across Scenarios in the Dataset.\",\n",
    "                  labels={\"variable\": \"Class\",\n",
    "                         \"value\": \"Percentages\", \n",
    "                         \"confidence level\": \"Confidence Levels\",}\n",
    "                 ) \n",
    "\n",
    "barchart.update_layout(yaxis = dict(tickmode = 'array',tickvals = [0, 10, 20, 30, 40, 50], ticktext = ['0%', '10%', '20%', '30%', '40%', '50%']))\n",
    "newlabels ={\"Values00\": \"Human(0)_ML(0)\", \"Values01\": \"Human(0)_ML(1)\",\n",
    "           \"Values10\": \"Human(1)_ML(0)\", \"Values11\": \"Human(1)_ML(1)\",}\n",
    "barchart.for_each_trace(lambda t: t.update(name=newlabels[t.name], \n",
    "                                          legendgroup= newlabels[t.name],\n",
    "                                          hovertemplate = t.hovertemplate.replace(t.name, newlabels[t.name])))\n",
    "\n",
    "\n",
    "barchart.show()"
   ]
  },
  {
   "cell_type": "code",
   "execution_count": 132,
   "id": "babb976e",
   "metadata": {},
   "outputs": [
    {
     "data": {
      "text/plain": [
       "<AxesSubplot:xlabel='quant_3', ylabel='quant_2'>"
      ]
     },
     "execution_count": 132,
     "metadata": {},
     "output_type": "execute_result"
    },
    {
     "data": {
      "image/png": "[encoded data removed]",
      "text/plain": [
       "<Figure size 1080x576 with 1 Axes>"
      ]
     },
     "metadata": {
      "needs_background": "light"
     },
     "output_type": "display_data"
    }
   ],
   "source": [
    "plt.figure(figsize=(15, 8))\n",
    "sns.scatterplot(x = dataset.quant_3, y=dataset.quant_2, hue=\"Human_preds\", data=dataset)"
   ]
  },
  {
   "cell_type": "code",
   "execution_count": 109,
   "id": "1f5233b6",
   "metadata": {},
   "outputs": [
    {
     "data": {
      "text/plain": [
       "'soso'"
      ]
     },
     "execution_count": 109,
     "metadata": {},
     "output_type": "execute_result"
    }
   ],
   "source": [
    "\"so-so\".replace(\"-\", \"\")"
   ]
  },
  {
   "cell_type": "code",
   "execution_count": 110,
   "id": "9a76a818",
   "metadata": {},
   "outputs": [
    {
     "data": {
      "text/plain": [
       "'soso'"
      ]
     },
     "execution_count": 110,
     "metadata": {},
     "output_type": "execute_result"
    }
   ],
   "source": [
    "\"soso\".replace(\"-\", \"\")"
   ]
  },
  {
   "cell_type": "code",
   "execution_count": 112,
   "id": "712e1a84",
   "metadata": {},
   "outputs": [],
   "source": [
    "conf = [i.lower() for i in dataset[\"Confidence (low, so-so, high)\"]]"
   ]
  },
  {
   "cell_type": "code",
   "execution_count": 116,
   "id": "ec6b8f12",
   "metadata": {},
   "outputs": [],
   "source": [
    "conf1 = [i.replace(\"-\", \"\") for i in conf]"
   ]
  },
  {
   "cell_type": "code",
   "execution_count": 117,
   "id": "bf94d781",
   "metadata": {},
   "outputs": [],
   "source": [
    "conf2 = [i.replace(\" \", \"\") for i in conf1]"
   ]
  },
  {
   "cell_type": "code",
   "execution_count": 124,
   "id": "7c47b8d3",
   "metadata": {},
   "outputs": [
    {
     "data": {
      "text/plain": [
       "high    653\n",
       "soso    452\n",
       "low     392\n",
       "          1\n",
       "dtype: int64"
      ]
     },
     "execution_count": 124,
     "metadata": {},
     "output_type": "execute_result"
    }
   ],
   "source": [
    "pd.Series(conf4).value_counts()"
   ]
  },
  {
   "cell_type": "code",
   "execution_count": 119,
   "id": "73914b47",
   "metadata": {},
   "outputs": [],
   "source": [
    "conf3 = [i.replace(\"medium\", \"soso\") for i in conf2]"
   ]
  },
  {
   "cell_type": "code",
   "execution_count": 123,
   "id": "a692d191",
   "metadata": {},
   "outputs": [],
   "source": [
    "conf4 = [i.replace(\"hiigh\", \"high\") for i in conf3]"
   ]
  },
  {
   "cell_type": "code",
   "execution_count": 125,
   "id": "6c68346c",
   "metadata": {},
   "outputs": [],
   "source": [
    "dataset[\"confidence\"] = conf4"
   ]
  },
  {
   "cell_type": "code",
   "execution_count": 128,
   "id": "8dacff92",
   "metadata": {},
   "outputs": [
    {
     "data": {
      "text/plain": [
       "Index(['handle', 'Is Sybil? (T or F)', 'Confidence (low, so-so, high)',\n",
       "       'Notes', 'gitcoin_url', 'github_url', 'prediction_score',\n",
       "       'prediction_confidence', 'quant_1', 'quant_2', 'quant_3', 'quant_4',\n",
       "       'quant_5', 'quant_6', 'quant_7', 'Human_preds', 'confidence'],\n",
       "      dtype='object')"
      ]
     },
     "execution_count": 128,
     "metadata": {},
     "output_type": "execute_result"
    }
   ],
   "source": [
    "dataset.columns"
   ]
  },
  {
   "cell_type": "code",
   "execution_count": null,
   "id": "66b0af34",
   "metadata": {},
   "outputs": [],
   "source": []
  }
 ],
 "metadata": {
  "kernelspec": {
   "display_name": "Python 3",
   "language": "python",
   "name": "python3"
  },
  "language_info": {
   "codemirror_mode": {
    "name": "ipython",
    "version": 3
   },
   "file_extension": ".py",
   "mimetype": "text/x-python",
   "name": "python",
   "nbconvert_exporter": "python",
   "pygments_lexer": "ipython3",
   "version": "3.7.6"
  }
 },
 "nbformat": 4,
 "nbformat_minor": 5
}
